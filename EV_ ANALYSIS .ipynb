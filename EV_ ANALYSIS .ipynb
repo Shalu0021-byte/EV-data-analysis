{
 "cells": [
  {
   "cell_type": "markdown",
   "id": "773baa87-ce0d-4b0f-b0e6-7b98cc2f0d50",
   "metadata": {},
   "source": [
    "**ASSIGNMENT TITTLE:** Electric Vehicle Data Analysis\n",
    "\n",
    "\n"
   ]
  },
  {
   "cell_type": "markdown",
   "id": "7c252794-fb2d-4826-b385-8857218461ad",
   "metadata": {},
   "source": [
    "**NAME :** Shalu Tiwari\n"
   ]
  },
  {
   "cell_type": "markdown",
   "id": "ed1ae1c6-5b1d-4ea2-b193-b93a316a3c18",
   "metadata": {},
   "source": [
    "\n",
    "**DATE :** 28-JUNE-2025"
   ]
  },
  {
   "cell_type": "markdown",
   "id": "311a0159-e7be-441d-9b51-b2364f325d33",
   "metadata": {},
   "source": [
    "**DATASET :** EV Registration In Washington "
   ]
  },
  {
   "cell_type": "markdown",
   "id": "b737044a-0c49-4b07-b262-c5f1514f91e7",
   "metadata": {},
   "source": [
    "**INTRODUCTION :**\n",
    "This assignment analyzes electric vehicle (ev) data registered in washington state. the aim is to clean , explore , visualize and model the data set  using python and data science tools.\n"
   ]
  },
  {
   "cell_type": "code",
   "execution_count": 80,
   "id": "ce840d62-88df-457b-af49-db3208ca6e4a",
   "metadata": {},
   "outputs": [],
   "source": [
    "# IMPORTS"
   ]
  },
  {
   "cell_type": "code",
   "execution_count": 2,
   "id": "fd6eb0fd-7055-4677-b1f4-e56d30b1866a",
   "metadata": {},
   "outputs": [],
   "source": [
    "import pandas as pd\n",
    "import numpy as np\n",
    "import matplotlib.pyplot as plt\n",
    "import seaborn as sns\n"
   ]
  },
  {
   "cell_type": "markdown",
   "id": "fddfd139-6a54-401b-9421-f5b9a5eb10f3",
   "metadata": {},
   "source": [
    "### section-1 DATA CLEANING"
   ]
  },
  {
   "cell_type": "markdown",
   "id": "e21d6eff-dba9-4e96-86f9-9e91b77016e1",
   "metadata": {},
   "source": [
    "### MISSING VALUES EXIST IN THE DATASET"
   ]
  },
  {
   "cell_type": "code",
   "execution_count": 4,
   "id": "8bbd4839-fbbb-4475-9fb6-231ab670052e",
   "metadata": {},
   "outputs": [],
   "source": [
    "df=pd.read_csv(\"C:/Users/DELL/Downloads/Electric_Vehicle_Population_Data (1).csv\")"
   ]
  },
  {
   "cell_type": "code",
   "execution_count": 5,
   "id": "626b6827-431f-4d29-873f-7c34c24f0f86",
   "metadata": {},
   "outputs": [
    {
     "data": {
      "text/html": [
       "<div>\n",
       "<style scoped>\n",
       "    .dataframe tbody tr th:only-of-type {\n",
       "        vertical-align: middle;\n",
       "    }\n",
       "\n",
       "    .dataframe tbody tr th {\n",
       "        vertical-align: top;\n",
       "    }\n",
       "\n",
       "    .dataframe thead th {\n",
       "        text-align: right;\n",
       "    }\n",
       "</style>\n",
       "<table border=\"1\" class=\"dataframe\">\n",
       "  <thead>\n",
       "    <tr style=\"text-align: right;\">\n",
       "      <th></th>\n",
       "      <th>VIN (1-10)</th>\n",
       "      <th>County</th>\n",
       "      <th>City</th>\n",
       "      <th>State</th>\n",
       "      <th>Postal Code</th>\n",
       "      <th>Model Year</th>\n",
       "      <th>Make</th>\n",
       "      <th>Model</th>\n",
       "      <th>Electric Vehicle Type</th>\n",
       "      <th>Clean Alternative Fuel Vehicle (CAFV) Eligibility</th>\n",
       "      <th>Electric Range</th>\n",
       "      <th>Base MSRP</th>\n",
       "      <th>Legislative District</th>\n",
       "      <th>DOL Vehicle ID</th>\n",
       "      <th>Vehicle Location</th>\n",
       "      <th>Electric Utility</th>\n",
       "      <th>2020 Census Tract</th>\n",
       "    </tr>\n",
       "  </thead>\n",
       "  <tbody>\n",
       "    <tr>\n",
       "      <th>0</th>\n",
       "      <td>1N4BZ0CP5G</td>\n",
       "      <td>King</td>\n",
       "      <td>Seattle</td>\n",
       "      <td>WA</td>\n",
       "      <td>98125.0</td>\n",
       "      <td>2016</td>\n",
       "      <td>NISSAN</td>\n",
       "      <td>LEAF</td>\n",
       "      <td>Battery Electric Vehicle (BEV)</td>\n",
       "      <td>Clean Alternative Fuel Vehicle Eligible</td>\n",
       "      <td>84.0</td>\n",
       "      <td>0.0</td>\n",
       "      <td>46.0</td>\n",
       "      <td>349455557</td>\n",
       "      <td>POINT (-122.30253 47.72656)</td>\n",
       "      <td>CITY OF SEATTLE - (WA)|CITY OF TACOMA - (WA)</td>\n",
       "      <td>5.303300e+10</td>\n",
       "    </tr>\n",
       "    <tr>\n",
       "      <th>1</th>\n",
       "      <td>KNDJX3AEXG</td>\n",
       "      <td>King</td>\n",
       "      <td>Renton</td>\n",
       "      <td>WA</td>\n",
       "      <td>98058.0</td>\n",
       "      <td>2016</td>\n",
       "      <td>KIA</td>\n",
       "      <td>SOUL</td>\n",
       "      <td>Battery Electric Vehicle (BEV)</td>\n",
       "      <td>Clean Alternative Fuel Vehicle Eligible</td>\n",
       "      <td>93.0</td>\n",
       "      <td>31950.0</td>\n",
       "      <td>11.0</td>\n",
       "      <td>210641315</td>\n",
       "      <td>POINT (-122.08747 47.4466)</td>\n",
       "      <td>PUGET SOUND ENERGY INC||CITY OF TACOMA - (WA)</td>\n",
       "      <td>5.303303e+10</td>\n",
       "    </tr>\n",
       "    <tr>\n",
       "      <th>2</th>\n",
       "      <td>5YJ3E1EB2J</td>\n",
       "      <td>King</td>\n",
       "      <td>Seattle</td>\n",
       "      <td>WA</td>\n",
       "      <td>98115.0</td>\n",
       "      <td>2018</td>\n",
       "      <td>TESLA</td>\n",
       "      <td>MODEL 3</td>\n",
       "      <td>Battery Electric Vehicle (BEV)</td>\n",
       "      <td>Clean Alternative Fuel Vehicle Eligible</td>\n",
       "      <td>215.0</td>\n",
       "      <td>0.0</td>\n",
       "      <td>43.0</td>\n",
       "      <td>171417494</td>\n",
       "      <td>POINT (-122.31676 47.68156)</td>\n",
       "      <td>CITY OF SEATTLE - (WA)|CITY OF TACOMA - (WA)</td>\n",
       "      <td>5.303300e+10</td>\n",
       "    </tr>\n",
       "    <tr>\n",
       "      <th>3</th>\n",
       "      <td>1C4RJXN64R</td>\n",
       "      <td>Kitsap</td>\n",
       "      <td>Bremerton</td>\n",
       "      <td>WA</td>\n",
       "      <td>98312.0</td>\n",
       "      <td>2024</td>\n",
       "      <td>JEEP</td>\n",
       "      <td>WRANGLER</td>\n",
       "      <td>Plug-in Hybrid Electric Vehicle (PHEV)</td>\n",
       "      <td>Not eligible due to low battery range</td>\n",
       "      <td>21.0</td>\n",
       "      <td>0.0</td>\n",
       "      <td>26.0</td>\n",
       "      <td>262542927</td>\n",
       "      <td>POINT (-122.65223 47.57192)</td>\n",
       "      <td>PUGET SOUND ENERGY INC</td>\n",
       "      <td>5.303508e+10</td>\n",
       "    </tr>\n",
       "    <tr>\n",
       "      <th>4</th>\n",
       "      <td>5YJ3E1EB1J</td>\n",
       "      <td>Thurston</td>\n",
       "      <td>Olympia</td>\n",
       "      <td>WA</td>\n",
       "      <td>98512.0</td>\n",
       "      <td>2018</td>\n",
       "      <td>TESLA</td>\n",
       "      <td>MODEL 3</td>\n",
       "      <td>Battery Electric Vehicle (BEV)</td>\n",
       "      <td>Clean Alternative Fuel Vehicle Eligible</td>\n",
       "      <td>215.0</td>\n",
       "      <td>0.0</td>\n",
       "      <td>35.0</td>\n",
       "      <td>110432815</td>\n",
       "      <td>POINT (-122.9131 47.01359)</td>\n",
       "      <td>PUGET SOUND ENERGY INC</td>\n",
       "      <td>5.306701e+10</td>\n",
       "    </tr>\n",
       "    <tr>\n",
       "      <th>...</th>\n",
       "      <td>...</td>\n",
       "      <td>...</td>\n",
       "      <td>...</td>\n",
       "      <td>...</td>\n",
       "      <td>...</td>\n",
       "      <td>...</td>\n",
       "      <td>...</td>\n",
       "      <td>...</td>\n",
       "      <td>...</td>\n",
       "      <td>...</td>\n",
       "      <td>...</td>\n",
       "      <td>...</td>\n",
       "      <td>...</td>\n",
       "      <td>...</td>\n",
       "      <td>...</td>\n",
       "      <td>...</td>\n",
       "      <td>...</td>\n",
       "    </tr>\n",
       "    <tr>\n",
       "      <th>247339</th>\n",
       "      <td>7G2CEHED0R</td>\n",
       "      <td>King</td>\n",
       "      <td>Newcastle</td>\n",
       "      <td>WA</td>\n",
       "      <td>98056.0</td>\n",
       "      <td>2024</td>\n",
       "      <td>TESLA</td>\n",
       "      <td>CYBERTRUCK</td>\n",
       "      <td>Battery Electric Vehicle (BEV)</td>\n",
       "      <td>Eligibility unknown as battery range has not b...</td>\n",
       "      <td>0.0</td>\n",
       "      <td>0.0</td>\n",
       "      <td>41.0</td>\n",
       "      <td>278417947</td>\n",
       "      <td>POINT (-122.1805 47.50006)</td>\n",
       "      <td>PUGET SOUND ENERGY INC||CITY OF TACOMA - (WA)</td>\n",
       "      <td>5.303303e+10</td>\n",
       "    </tr>\n",
       "    <tr>\n",
       "      <th>247340</th>\n",
       "      <td>1C4RJYC65R</td>\n",
       "      <td>Pierce</td>\n",
       "      <td>Puyallup</td>\n",
       "      <td>WA</td>\n",
       "      <td>98374.0</td>\n",
       "      <td>2024</td>\n",
       "      <td>JEEP</td>\n",
       "      <td>GRAND CHEROKEE</td>\n",
       "      <td>Plug-in Hybrid Electric Vehicle (PHEV)</td>\n",
       "      <td>Not eligible due to low battery range</td>\n",
       "      <td>25.0</td>\n",
       "      <td>0.0</td>\n",
       "      <td>25.0</td>\n",
       "      <td>271451197</td>\n",
       "      <td>POINT (-122.27575 47.13959)</td>\n",
       "      <td>PUGET SOUND ENERGY INC||CITY OF TACOMA - (WA)</td>\n",
       "      <td>5.305307e+10</td>\n",
       "    </tr>\n",
       "    <tr>\n",
       "      <th>247341</th>\n",
       "      <td>7SAYGDEE0P</td>\n",
       "      <td>King</td>\n",
       "      <td>Bothell</td>\n",
       "      <td>WA</td>\n",
       "      <td>98011.0</td>\n",
       "      <td>2023</td>\n",
       "      <td>TESLA</td>\n",
       "      <td>MODEL Y</td>\n",
       "      <td>Battery Electric Vehicle (BEV)</td>\n",
       "      <td>Eligibility unknown as battery range has not b...</td>\n",
       "      <td>0.0</td>\n",
       "      <td>0.0</td>\n",
       "      <td>1.0</td>\n",
       "      <td>249563667</td>\n",
       "      <td>POINT (-122.20563 47.76144)</td>\n",
       "      <td>PUGET SOUND ENERGY INC||CITY OF TACOMA - (WA)</td>\n",
       "      <td>5.303302e+10</td>\n",
       "    </tr>\n",
       "    <tr>\n",
       "      <th>247342</th>\n",
       "      <td>KNDPYDAH9P</td>\n",
       "      <td>Kitsap</td>\n",
       "      <td>Bainbridge Island</td>\n",
       "      <td>WA</td>\n",
       "      <td>98110.0</td>\n",
       "      <td>2023</td>\n",
       "      <td>KIA</td>\n",
       "      <td>SPORTAGE</td>\n",
       "      <td>Plug-in Hybrid Electric Vehicle (PHEV)</td>\n",
       "      <td>Clean Alternative Fuel Vehicle Eligible</td>\n",
       "      <td>34.0</td>\n",
       "      <td>0.0</td>\n",
       "      <td>23.0</td>\n",
       "      <td>238968376</td>\n",
       "      <td>POINT (-122.521 47.62728)</td>\n",
       "      <td>PUGET SOUND ENERGY INC</td>\n",
       "      <td>5.303509e+10</td>\n",
       "    </tr>\n",
       "    <tr>\n",
       "      <th>247343</th>\n",
       "      <td>KNDPZDAH8P</td>\n",
       "      <td>Whatcom</td>\n",
       "      <td>Bellingham</td>\n",
       "      <td>WA</td>\n",
       "      <td>98226.0</td>\n",
       "      <td>2023</td>\n",
       "      <td>KIA</td>\n",
       "      <td>SPORTAGE</td>\n",
       "      <td>Plug-in Hybrid Electric Vehicle (PHEV)</td>\n",
       "      <td>Clean Alternative Fuel Vehicle Eligible</td>\n",
       "      <td>34.0</td>\n",
       "      <td>0.0</td>\n",
       "      <td>42.0</td>\n",
       "      <td>253768637</td>\n",
       "      <td>POINT (-122.49756 48.7999)</td>\n",
       "      <td>PUGET SOUND ENERGY INC||PUD NO 1 OF WHATCOM CO...</td>\n",
       "      <td>5.307300e+10</td>\n",
       "    </tr>\n",
       "  </tbody>\n",
       "</table>\n",
       "<p>247344 rows × 17 columns</p>\n",
       "</div>"
      ],
      "text/plain": [
       "        VIN (1-10)    County               City State  Postal Code  \\\n",
       "0       1N4BZ0CP5G      King            Seattle    WA      98125.0   \n",
       "1       KNDJX3AEXG      King             Renton    WA      98058.0   \n",
       "2       5YJ3E1EB2J      King            Seattle    WA      98115.0   \n",
       "3       1C4RJXN64R    Kitsap          Bremerton    WA      98312.0   \n",
       "4       5YJ3E1EB1J  Thurston            Olympia    WA      98512.0   \n",
       "...            ...       ...                ...   ...          ...   \n",
       "247339  7G2CEHED0R      King          Newcastle    WA      98056.0   \n",
       "247340  1C4RJYC65R    Pierce           Puyallup    WA      98374.0   \n",
       "247341  7SAYGDEE0P      King            Bothell    WA      98011.0   \n",
       "247342  KNDPYDAH9P    Kitsap  Bainbridge Island    WA      98110.0   \n",
       "247343  KNDPZDAH8P   Whatcom         Bellingham    WA      98226.0   \n",
       "\n",
       "        Model Year    Make           Model  \\\n",
       "0             2016  NISSAN            LEAF   \n",
       "1             2016     KIA            SOUL   \n",
       "2             2018   TESLA         MODEL 3   \n",
       "3             2024    JEEP        WRANGLER   \n",
       "4             2018   TESLA         MODEL 3   \n",
       "...            ...     ...             ...   \n",
       "247339        2024   TESLA      CYBERTRUCK   \n",
       "247340        2024    JEEP  GRAND CHEROKEE   \n",
       "247341        2023   TESLA         MODEL Y   \n",
       "247342        2023     KIA        SPORTAGE   \n",
       "247343        2023     KIA        SPORTAGE   \n",
       "\n",
       "                         Electric Vehicle Type  \\\n",
       "0               Battery Electric Vehicle (BEV)   \n",
       "1               Battery Electric Vehicle (BEV)   \n",
       "2               Battery Electric Vehicle (BEV)   \n",
       "3       Plug-in Hybrid Electric Vehicle (PHEV)   \n",
       "4               Battery Electric Vehicle (BEV)   \n",
       "...                                        ...   \n",
       "247339          Battery Electric Vehicle (BEV)   \n",
       "247340  Plug-in Hybrid Electric Vehicle (PHEV)   \n",
       "247341          Battery Electric Vehicle (BEV)   \n",
       "247342  Plug-in Hybrid Electric Vehicle (PHEV)   \n",
       "247343  Plug-in Hybrid Electric Vehicle (PHEV)   \n",
       "\n",
       "        Clean Alternative Fuel Vehicle (CAFV) Eligibility  Electric Range  \\\n",
       "0                 Clean Alternative Fuel Vehicle Eligible            84.0   \n",
       "1                 Clean Alternative Fuel Vehicle Eligible            93.0   \n",
       "2                 Clean Alternative Fuel Vehicle Eligible           215.0   \n",
       "3                   Not eligible due to low battery range            21.0   \n",
       "4                 Clean Alternative Fuel Vehicle Eligible           215.0   \n",
       "...                                                   ...             ...   \n",
       "247339  Eligibility unknown as battery range has not b...             0.0   \n",
       "247340              Not eligible due to low battery range            25.0   \n",
       "247341  Eligibility unknown as battery range has not b...             0.0   \n",
       "247342            Clean Alternative Fuel Vehicle Eligible            34.0   \n",
       "247343            Clean Alternative Fuel Vehicle Eligible            34.0   \n",
       "\n",
       "        Base MSRP  Legislative District  DOL Vehicle ID  \\\n",
       "0             0.0                  46.0       349455557   \n",
       "1         31950.0                  11.0       210641315   \n",
       "2             0.0                  43.0       171417494   \n",
       "3             0.0                  26.0       262542927   \n",
       "4             0.0                  35.0       110432815   \n",
       "...           ...                   ...             ...   \n",
       "247339        0.0                  41.0       278417947   \n",
       "247340        0.0                  25.0       271451197   \n",
       "247341        0.0                   1.0       249563667   \n",
       "247342        0.0                  23.0       238968376   \n",
       "247343        0.0                  42.0       253768637   \n",
       "\n",
       "                   Vehicle Location  \\\n",
       "0       POINT (-122.30253 47.72656)   \n",
       "1        POINT (-122.08747 47.4466)   \n",
       "2       POINT (-122.31676 47.68156)   \n",
       "3       POINT (-122.65223 47.57192)   \n",
       "4        POINT (-122.9131 47.01359)   \n",
       "...                             ...   \n",
       "247339   POINT (-122.1805 47.50006)   \n",
       "247340  POINT (-122.27575 47.13959)   \n",
       "247341  POINT (-122.20563 47.76144)   \n",
       "247342    POINT (-122.521 47.62728)   \n",
       "247343   POINT (-122.49756 48.7999)   \n",
       "\n",
       "                                         Electric Utility  2020 Census Tract  \n",
       "0            CITY OF SEATTLE - (WA)|CITY OF TACOMA - (WA)       5.303300e+10  \n",
       "1           PUGET SOUND ENERGY INC||CITY OF TACOMA - (WA)       5.303303e+10  \n",
       "2            CITY OF SEATTLE - (WA)|CITY OF TACOMA - (WA)       5.303300e+10  \n",
       "3                                  PUGET SOUND ENERGY INC       5.303508e+10  \n",
       "4                                  PUGET SOUND ENERGY INC       5.306701e+10  \n",
       "...                                                   ...                ...  \n",
       "247339      PUGET SOUND ENERGY INC||CITY OF TACOMA - (WA)       5.303303e+10  \n",
       "247340      PUGET SOUND ENERGY INC||CITY OF TACOMA - (WA)       5.305307e+10  \n",
       "247341      PUGET SOUND ENERGY INC||CITY OF TACOMA - (WA)       5.303302e+10  \n",
       "247342                             PUGET SOUND ENERGY INC       5.303509e+10  \n",
       "247343  PUGET SOUND ENERGY INC||PUD NO 1 OF WHATCOM CO...       5.307300e+10  \n",
       "\n",
       "[247344 rows x 17 columns]"
      ]
     },
     "execution_count": 5,
     "metadata": {},
     "output_type": "execute_result"
    }
   ],
   "source": [
    "df"
   ]
  },
  {
   "cell_type": "code",
   "execution_count": 6,
   "id": "6ddf1856-e04d-476e-90cb-398f7dc0d1f7",
   "metadata": {},
   "outputs": [
    {
     "data": {
      "text/plain": [
       "VIN (1-10)                                             0\n",
       "County                                                 4\n",
       "City                                                   4\n",
       "State                                                  0\n",
       "Postal Code                                            4\n",
       "Model Year                                             0\n",
       "Make                                                   0\n",
       "Model                                                  0\n",
       "Electric Vehicle Type                                  0\n",
       "Clean Alternative Fuel Vehicle (CAFV) Eligibility      0\n",
       "Electric Range                                        20\n",
       "Base MSRP                                             20\n",
       "Legislative District                                 553\n",
       "DOL Vehicle ID                                         0\n",
       "Vehicle Location                                      11\n",
       "Electric Utility                                       4\n",
       "2020 Census Tract                                      4\n",
       "dtype: int64"
      ]
     },
     "execution_count": 6,
     "metadata": {},
     "output_type": "execute_result"
    }
   ],
   "source": [
    "df.isnull().sum()"
   ]
  },
  {
   "cell_type": "markdown",
   "id": "fda67faf-5879-437e-9112-da6da1e21b39",
   "metadata": {},
   "source": [
    "### MISSING OR ZERO VALUES IN Base MSRP AND Electric Range be handled"
   ]
  },
  {
   "cell_type": "code",
   "execution_count": 7,
   "id": "d53b00af-7795-402d-b4ef-eaa0dfa58dfe",
   "metadata": {},
   "outputs": [
    {
     "data": {
      "text/plain": [
       "np.int64(20)"
      ]
     },
     "execution_count": 7,
     "metadata": {},
     "output_type": "execute_result"
    }
   ],
   "source": [
    "df[\"Base MSRP\"].isnull().sum()"
   ]
  },
  {
   "cell_type": "code",
   "execution_count": 10,
   "id": "708d6fba-beb0-429a-88cc-edc1b239db62",
   "metadata": {},
   "outputs": [],
   "source": [
    "df[\"Base MSRP\"]=df[\"Base MSRP\"].fillna(df[\"Base MSRP\"].mean())"
   ]
  },
  {
   "cell_type": "code",
   "execution_count": 9,
   "id": "4451899d-cb45-40f2-ad07-23c804fa50b2",
   "metadata": {},
   "outputs": [
    {
     "name": "stdout",
     "output_type": "stream",
     "text": [
      "<class 'pandas.core.frame.DataFrame'>\n",
      "RangeIndex: 247344 entries, 0 to 247343\n",
      "Data columns (total 17 columns):\n",
      " #   Column                                             Non-Null Count   Dtype  \n",
      "---  ------                                             --------------   -----  \n",
      " 0   VIN (1-10)                                         247344 non-null  object \n",
      " 1   County                                             247340 non-null  object \n",
      " 2   City                                               247340 non-null  object \n",
      " 3   State                                              247344 non-null  object \n",
      " 4   Postal Code                                        247340 non-null  float64\n",
      " 5   Model Year                                         247344 non-null  int64  \n",
      " 6   Make                                               247344 non-null  object \n",
      " 7   Model                                              247344 non-null  object \n",
      " 8   Electric Vehicle Type                              247344 non-null  object \n",
      " 9   Clean Alternative Fuel Vehicle (CAFV) Eligibility  247344 non-null  object \n",
      " 10  Electric Range                                     247324 non-null  float64\n",
      " 11  Base MSRP                                          247324 non-null  float64\n",
      " 12  Legislative District                               246791 non-null  float64\n",
      " 13  DOL Vehicle ID                                     247344 non-null  int64  \n",
      " 14  Vehicle Location                                   247333 non-null  object \n",
      " 15  Electric Utility                                   247340 non-null  object \n",
      " 16  2020 Census Tract                                  247340 non-null  float64\n",
      "dtypes: float64(5), int64(2), object(10)\n",
      "memory usage: 32.1+ MB\n"
     ]
    }
   ],
   "source": [
    "df.info()"
   ]
  },
  {
   "cell_type": "code",
   "execution_count": 10,
   "id": "a4246eeb-7913-4f2e-b38e-92bf1920ddf3",
   "metadata": {},
   "outputs": [
    {
     "data": {
      "text/plain": [
       "np.int64(20)"
      ]
     },
     "execution_count": 10,
     "metadata": {},
     "output_type": "execute_result"
    }
   ],
   "source": [
    "df[\"Electric Range\"].isnull().sum()"
   ]
  },
  {
   "cell_type": "code",
   "execution_count": 11,
   "id": "ecf2f13f-bf35-49cd-b8d4-ca0a2658e28a",
   "metadata": {},
   "outputs": [],
   "source": [
    "df[\"Electric Range\"]=df[\"Electric Range\"].fillna(df[\"Electric Range\"].mean())"
   ]
  },
  {
   "cell_type": "code",
   "execution_count": 12,
   "id": "c17a14c7-efc8-4d6b-8a63-7386f7e4f6ee",
   "metadata": {},
   "outputs": [
    {
     "data": {
      "text/plain": [
       "np.int64(0)"
      ]
     },
     "execution_count": 12,
     "metadata": {},
     "output_type": "execute_result"
    }
   ],
   "source": [
    "df[\"Electric Range\"].isnull().sum()"
   ]
  },
  {
   "cell_type": "code",
   "execution_count": 84,
   "id": "af6435b6-c2b1-4aea-a9b5-6164852d050e",
   "metadata": {},
   "outputs": [],
   "source": [
    "#DUPLICATED VALUES PRESENT IN THE DATASET"
   ]
  },
  {
   "cell_type": "code",
   "execution_count": 13,
   "id": "5922c71d-946f-448e-bea6-6a46cb1ae13f",
   "metadata": {},
   "outputs": [
    {
     "data": {
      "text/plain": [
       "np.int64(0)"
      ]
     },
     "execution_count": 13,
     "metadata": {},
     "output_type": "execute_result"
    }
   ],
   "source": [
    "df.duplicated().sum()"
   ]
  },
  {
   "cell_type": "markdown",
   "id": "2b876701-a513-4a4b-b761-0f6cc6dbb82b",
   "metadata": {},
   "source": [
    "We checked for duplicate records using df.duplicated().sum() and found that the dataset contains zero duplicate rows. Therefore, no further action was necessary for managing duplicates.\n",
    "\n"
   ]
  },
  {
   "cell_type": "markdown",
   "id": "184cbab0-8ac3-4b49-86f0-3f147058ffa8",
   "metadata": {},
   "source": [
    "### VINs BE ANONYMIZED WHILE  MAINTANIING UNIQUENESS"
   ]
  },
  {
   "cell_type": "code",
   "execution_count": 14,
   "id": "5b56d50c-68ec-4fa6-9484-291a2d9d262a",
   "metadata": {},
   "outputs": [],
   "source": [
    "import hashlib\n",
    "df['VIN_Anonymized'] = df['VIN (1-10)'].apply(lambda VIN: hashlib.sha256(VIN.encode()).hexdigest())"
   ]
  },
  {
   "cell_type": "code",
   "execution_count": 15,
   "id": "92b635c8-e0d8-4c52-900e-b1db1db72407",
   "metadata": {},
   "outputs": [
    {
     "data": {
      "text/plain": [
       "0         ba814b799f5bee2ad2c4b60bd963cb070cbda908e215cd...\n",
       "1         ba258d18a33e17ab902eb1611576c93f3b5692f9f33f94...\n",
       "2         2e9a11a90792ccfe7674388860f253e0288e53d8ec544e...\n",
       "3         15768eb7a92d82af83f8ef28434832fd4f547490c7f524...\n",
       "4         2984ac80c258388c54f6ddef953f580f6a76e54cbbd670...\n",
       "                                ...                        \n",
       "247339    5988761efb8cc47d66b21ebdbf43bdcf0ef4ed2e4cf018...\n",
       "247340    ec032c571fdfcb6b2fef1f12d3711e9bde7ece7dc099c0...\n",
       "247341    ec39fe9f5b881417c93c1cda29def1a7f7f6bbe9fc4432...\n",
       "247342    d52571623aeb910458a8b431674c27c1faa24356929e28...\n",
       "247343    be0b86a73183875802fc3e2669e3192b3718d22c80cf8b...\n",
       "Name: VIN_Anonymized, Length: 247344, dtype: object"
      ]
     },
     "execution_count": 15,
     "metadata": {},
     "output_type": "execute_result"
    }
   ],
   "source": [
    "df['VIN_Anonymized']"
   ]
  },
  {
   "cell_type": "markdown",
   "id": "8a86b67d-a3f3-41c1-9c28-6d5cf693fadb",
   "metadata": {},
   "source": [
    "### VEHICLE LOCATION CONVERTED AND CLEANED FOR BETTER READABILITY"
   ]
  },
  {
   "cell_type": "code",
   "execution_count": 16,
   "id": "9ab44adf-4624-4f84-ae29-07bddb9b9ea2",
   "metadata": {},
   "outputs": [
    {
     "data": {
      "text/plain": [
       "0    POINT (-122.30253 47.72656)\n",
       "1     POINT (-122.08747 47.4466)\n",
       "2    POINT (-122.31676 47.68156)\n",
       "3    POINT (-122.65223 47.57192)\n",
       "4     POINT (-122.9131 47.01359)\n",
       "5    POINT (-122.36498 47.72238)\n",
       "6    POINT (-122.06402 48.01497)\n",
       "7    POINT (-120.31298 46.37508)\n",
       "8      POINT (-122.521 47.62728)\n",
       "9    POINT (-122.35022 47.63824)\n",
       "Name: Vehicle Location, dtype: object"
      ]
     },
     "execution_count": 16,
     "metadata": {},
     "output_type": "execute_result"
    }
   ],
   "source": [
    "df['Vehicle Location'].head(10)"
   ]
  },
  {
   "cell_type": "code",
   "execution_count": 17,
   "id": "1d2168e3-a32b-46ea-bf66-8ab3ebf48a98",
   "metadata": {},
   "outputs": [],
   "source": [
    "df['Vehicle Location'] = df['Vehicle Location'].str.replace('POINT (','', regex=False)\n"
   ]
  },
  {
   "cell_type": "code",
   "execution_count": 18,
   "id": "ba4a1a0f-4257-4b1e-aa7d-ddefad35f393",
   "metadata": {},
   "outputs": [],
   "source": [
    "df['Vehicle Location'] = df['Vehicle Location'].str.replace(')','',regex=False)\n"
   ]
  },
  {
   "cell_type": "code",
   "execution_count": 19,
   "id": "e9e7b3d5-5064-4e6d-a718-2d9b48df7f06",
   "metadata": {},
   "outputs": [],
   "source": [
    "df[['Longitude', 'Latitude']] = df['Vehicle Location'].str.split(' ', expand=True)\n",
    "\n"
   ]
  },
  {
   "cell_type": "code",
   "execution_count": 20,
   "id": "0581d8e1-12de-4a33-9248-9ce898eb190c",
   "metadata": {},
   "outputs": [],
   "source": [
    "df['Longitude'] = df['Longitude'].astype(float)\n"
   ]
  },
  {
   "cell_type": "code",
   "execution_count": 21,
   "id": "e71e4854-2af3-4553-8209-ad9f6b958b7b",
   "metadata": {},
   "outputs": [],
   "source": [
    "df['Latitude'] = df['Latitude'].astype(float)\n"
   ]
  },
  {
   "cell_type": "code",
   "execution_count": 22,
   "id": "00e9ef60-dad3-40c6-8afc-dcee0a1604c4",
   "metadata": {},
   "outputs": [],
   "source": [
    "df['Longitude'] = df['Longitude'].round(4)\n"
   ]
  },
  {
   "cell_type": "code",
   "execution_count": 23,
   "id": "761baaa5-bb6e-4bab-8fb4-f27c08706133",
   "metadata": {},
   "outputs": [
    {
     "name": "stdout",
     "output_type": "stream",
     "text": [
      "   Longitude  Latitude\n",
      "0  -122.3025  47.72656\n",
      "1  -122.0875  47.44660\n",
      "2  -122.3168  47.68156\n",
      "3  -122.6522  47.57192\n",
      "4  -122.9131  47.01359\n"
     ]
    }
   ],
   "source": [
    "print(df[['Longitude', 'Latitude']].head())"
   ]
  },
  {
   "cell_type": "code",
   "execution_count": 24,
   "id": "be95ad7f-ebec-45f0-9534-844759d6e0d3",
   "metadata": {},
   "outputs": [
    {
     "data": {
      "text/plain": [
       "Index(['VIN (1-10)', 'County', 'City', 'State', 'Postal Code', 'Model Year',\n",
       "       'Make', 'Model', 'Electric Vehicle Type',\n",
       "       'Clean Alternative Fuel Vehicle (CAFV) Eligibility', 'Electric Range',\n",
       "       'Base MSRP', 'Legislative District', 'DOL Vehicle ID',\n",
       "       'Vehicle Location', 'Electric Utility', '2020 Census Tract',\n",
       "       'VIN_Anonymized', 'Longitude', 'Latitude'],\n",
       "      dtype='object')"
      ]
     },
     "execution_count": 24,
     "metadata": {},
     "output_type": "execute_result"
    }
   ],
   "source": [
    "df.columns"
   ]
  },
  {
   "cell_type": "markdown",
   "id": "0720311e-340d-4ad7-8b41-cc7f98109420",
   "metadata": {},
   "source": [
    "### section-2 DATA EXPLORATION"
   ]
  },
  {
   "cell_type": "markdown",
   "id": "e5edade5-ef68-48cf-afe2-ee5c5a1f6b04",
   "metadata": {},
   "source": [
    "### top 5 ev makes and model"
   ]
  },
  {
   "cell_type": "code",
   "execution_count": 27,
   "id": "bdfbbfb0-52fd-47ca-8d76-ea8e6be367c1",
   "metadata": {},
   "outputs": [],
   "source": [
    "top_five =df.groupby([\"Make\",\"Model\"]).size().sort_values(ascending=False).head(5)"
   ]
  },
  {
   "cell_type": "code",
   "execution_count": 28,
   "id": "4a22e786-b191-4bb9-905b-18882ad07fa9",
   "metadata": {},
   "outputs": [
    {
     "data": {
      "text/plain": [
       "Make       Model  \n",
       "TESLA      MODEL Y    51528\n",
       "           MODEL 3    37427\n",
       "NISSAN     LEAF       13950\n",
       "TESLA      MODEL S     7912\n",
       "CHEVROLET  BOLT EV     7463\n",
       "dtype: int64"
      ]
     },
     "execution_count": 28,
     "metadata": {},
     "output_type": "execute_result"
    }
   ],
   "source": [
    "top_five"
   ]
  },
  {
   "cell_type": "markdown",
   "id": "bba0974d-d9cc-46b2-858f-fb55bd9bc17c",
   "metadata": {},
   "source": [
    "###  🔹 EV Distribution by County\n",
    "\n",
    "We used the value_counts() function on the County column to understand the distribution of electric vehicles across counties in Washington state.\n",
    "\n",
    "King County has the highest number of EV registrations, followed by Pierce and Snohomish counties. This suggests that EV adoption is higher in more urbanized or densely populated regions."
   ]
  },
  {
   "cell_type": "code",
   "execution_count": 29,
   "id": "f61f1f41-4231-4675-b4c0-3bee9dc571df",
   "metadata": {},
   "outputs": [],
   "source": [
    "a=df[\"County\"].value_counts()"
   ]
  },
  {
   "cell_type": "code",
   "execution_count": 30,
   "id": "121b4bfd-4fe7-459c-93d5-b5c140236554",
   "metadata": {},
   "outputs": [
    {
     "data": {
      "text/plain": [
       "County\n",
       "King         122819\n",
       "Snohomish     30587\n",
       "Pierce        20534\n",
       "Clark         15055\n",
       "Thurston       9081\n",
       "Kitsap         8375\n",
       "Spokane        6971\n",
       "Whatcom        6030\n",
       "Benton         3320\n",
       "Skagit         2843\n",
       "Name: count, dtype: int64"
      ]
     },
     "execution_count": 30,
     "metadata": {},
     "output_type": "execute_result"
    }
   ],
   "source": [
    "a.head(10)"
   ]
  },
  {
   "cell_type": "markdown",
   "id": "2257ec80-d81f-4ed3-9915-98fa32b52d07",
   "metadata": {},
   "source": [
    "### 🛵 EV adoption year"
   ]
  },
  {
   "cell_type": "code",
   "execution_count": 31,
   "id": "3f069c17-54b9-422d-b0c7-b125bb754abc",
   "metadata": {},
   "outputs": [],
   "source": [
    "ev_adoption=df[\"Model Year\"].value_counts().sort_index()"
   ]
  },
  {
   "cell_type": "code",
   "execution_count": 32,
   "id": "b526bb40-1114-4dbb-9c72-16c9a8d34964",
   "metadata": {},
   "outputs": [
    {
     "data": {
      "text/plain": [
       "Model Year\n",
       "2000        8\n",
       "2002        2\n",
       "2003        1\n",
       "2008       17\n",
       "2010       23\n",
       "2011      656\n",
       "2012     1462\n",
       "2013     4168\n",
       "2014     3364\n",
       "2015     4613\n",
       "2016     5302\n",
       "2017     8755\n",
       "2018    14504\n",
       "2019    11055\n",
       "2020    12390\n",
       "2021    20794\n",
       "2022    29337\n",
       "2023    59088\n",
       "2024    49799\n",
       "2025    20820\n",
       "2026     1186\n",
       "Name: count, dtype: int64"
      ]
     },
     "execution_count": 32,
     "metadata": {},
     "output_type": "execute_result"
    }
   ],
   "source": [
    "ev_adoption"
   ]
  },
  {
   "cell_type": "markdown",
   "id": "0541da97-49b4-4173-ab7a-981273173a06",
   "metadata": {},
   "source": [
    "### AVERAGE ELECTRIC RANGE OF EVs"
   ]
  },
  {
   "cell_type": "code",
   "execution_count": 86,
   "id": "ac094a47-5fa6-486c-8675-eb960f68ee5e",
   "metadata": {},
   "outputs": [],
   "source": [
    "avg=df[\"Electric Range\"].mean()\n"
   ]
  },
  {
   "cell_type": "code",
   "execution_count": 34,
   "id": "e7cd49f2-c322-4ef5-9f07-5e30ae993f71",
   "metadata": {},
   "outputs": [
    {
     "name": "stdout",
     "output_type": "stream",
     "text": [
      "average electric range: 44.645659135385166\n"
     ]
    }
   ],
   "source": [
    "print(\"average electric range:\", avg)"
   ]
  },
  {
   "cell_type": "markdown",
   "id": "684bd9b5-d01d-42d3-8e04-bef9c3fb64b4",
   "metadata": {},
   "source": [
    "### percentage of ev eligible"
   ]
  },
  {
   "cell_type": "code",
   "execution_count": 88,
   "id": "65406341-d6d6-4f73-89ee-b753856c657b",
   "metadata": {},
   "outputs": [],
   "source": [
    "eligible=df[\"Clean Alternative Fuel Vehicle (CAFV) Eligibility\"].value_counts(normalize=True)*100"
   ]
  },
  {
   "cell_type": "code",
   "execution_count": 89,
   "id": "c3d76cc8-b574-4586-9aac-c58636406603",
   "metadata": {},
   "outputs": [
    {
     "data": {
      "text/plain": [
       "Clean Alternative Fuel Vehicle (CAFV) Eligibility\n",
       "Eligibility unknown as battery range has not been researched    60.496313\n",
       "Clean Alternative Fuel Vehicle Eligible                         30.129294\n",
       "Not eligible due to low battery range                            9.374394\n",
       "Name: proportion, dtype: float64"
      ]
     },
     "execution_count": 89,
     "metadata": {},
     "output_type": "execute_result"
    }
   ],
   "source": [
    "eligible"
   ]
  },
  {
   "cell_type": "markdown",
   "id": "73c0d5fc-3543-4067-9818-a9ec85497d3a",
   "metadata": {},
   "source": [
    "### ELECTRIC RANGE VARY ACROSS DIFFERENT MAKE AND MODELS"
   ]
  },
  {
   "cell_type": "code",
   "execution_count": 38,
   "id": "79abdfe9-3066-4209-8f31-25e7e30bab76",
   "metadata": {},
   "outputs": [],
   "source": [
    "aggregated_df = df.groupby('Make').agg({'Electric Range': ['mean']})"
   ]
  },
  {
   "cell_type": "code",
   "execution_count": 39,
   "id": "8cc872e3-1194-42a6-84fe-8e395bd78ebb",
   "metadata": {},
   "outputs": [
    {
     "data": {
      "text/html": [
       "<div>\n",
       "<style scoped>\n",
       "    .dataframe tbody tr th:only-of-type {\n",
       "        vertical-align: middle;\n",
       "    }\n",
       "\n",
       "    .dataframe tbody tr th {\n",
       "        vertical-align: top;\n",
       "    }\n",
       "\n",
       "    .dataframe thead tr th {\n",
       "        text-align: left;\n",
       "    }\n",
       "\n",
       "    .dataframe thead tr:last-of-type th {\n",
       "        text-align: right;\n",
       "    }\n",
       "</style>\n",
       "<table border=\"1\" class=\"dataframe\">\n",
       "  <thead>\n",
       "    <tr>\n",
       "      <th></th>\n",
       "      <th>Electric Range</th>\n",
       "    </tr>\n",
       "    <tr>\n",
       "      <th></th>\n",
       "      <th>mean</th>\n",
       "    </tr>\n",
       "    <tr>\n",
       "      <th>Make</th>\n",
       "      <th></th>\n",
       "    </tr>\n",
       "  </thead>\n",
       "  <tbody>\n",
       "    <tr>\n",
       "      <th>ACURA</th>\n",
       "      <td>0.000000</td>\n",
       "    </tr>\n",
       "    <tr>\n",
       "      <th>ALFA ROMEO</th>\n",
       "      <td>33.000000</td>\n",
       "    </tr>\n",
       "    <tr>\n",
       "      <th>AUDI</th>\n",
       "      <td>41.894436</td>\n",
       "    </tr>\n",
       "    <tr>\n",
       "      <th>AZURE DYNAMICS</th>\n",
       "      <td>56.000000</td>\n",
       "    </tr>\n",
       "    <tr>\n",
       "      <th>BENTLEY</th>\n",
       "      <td>31.250000</td>\n",
       "    </tr>\n",
       "    <tr>\n",
       "      <th>BMW</th>\n",
       "      <td>28.916201</td>\n",
       "    </tr>\n",
       "    <tr>\n",
       "      <th>BRIGHTDROP</th>\n",
       "      <td>0.000000</td>\n",
       "    </tr>\n",
       "    <tr>\n",
       "      <th>CADILLAC</th>\n",
       "      <td>2.414670</td>\n",
       "    </tr>\n",
       "    <tr>\n",
       "      <th>CHEVROLET</th>\n",
       "      <td>85.109193</td>\n",
       "    </tr>\n",
       "    <tr>\n",
       "      <th>CHRYSLER</th>\n",
       "      <td>32.183099</td>\n",
       "    </tr>\n",
       "    <tr>\n",
       "      <th>DODGE</th>\n",
       "      <td>27.500000</td>\n",
       "    </tr>\n",
       "    <tr>\n",
       "      <th>FIAT</th>\n",
       "      <td>76.949112</td>\n",
       "    </tr>\n",
       "    <tr>\n",
       "      <th>FISKER</th>\n",
       "      <td>2.136691</td>\n",
       "    </tr>\n",
       "    <tr>\n",
       "      <th>FORD</th>\n",
       "      <td>7.816654</td>\n",
       "    </tr>\n",
       "    <tr>\n",
       "      <th>GENESIS</th>\n",
       "      <td>0.000000</td>\n",
       "    </tr>\n",
       "    <tr>\n",
       "      <th>GMC</th>\n",
       "      <td>0.000000</td>\n",
       "    </tr>\n",
       "    <tr>\n",
       "      <th>HONDA</th>\n",
       "      <td>17.078250</td>\n",
       "    </tr>\n",
       "    <tr>\n",
       "      <th>HYUNDAI</th>\n",
       "      <td>14.522242</td>\n",
       "    </tr>\n",
       "    <tr>\n",
       "      <th>JAGUAR</th>\n",
       "      <td>187.200000</td>\n",
       "    </tr>\n",
       "    <tr>\n",
       "      <th>JEEP</th>\n",
       "      <td>22.127382</td>\n",
       "    </tr>\n",
       "    <tr>\n",
       "      <th>KIA</th>\n",
       "      <td>31.556103</td>\n",
       "    </tr>\n",
       "    <tr>\n",
       "      <th>LAMBORGHINI</th>\n",
       "      <td>23.411415</td>\n",
       "    </tr>\n",
       "    <tr>\n",
       "      <th>LAND ROVER</th>\n",
       "      <td>47.478788</td>\n",
       "    </tr>\n",
       "    <tr>\n",
       "      <th>LEXUS</th>\n",
       "      <td>21.693841</td>\n",
       "    </tr>\n",
       "    <tr>\n",
       "      <th>LINCOLN</th>\n",
       "      <td>24.454545</td>\n",
       "    </tr>\n",
       "    <tr>\n",
       "      <th>LUCID</th>\n",
       "      <td>0.000000</td>\n",
       "    </tr>\n",
       "    <tr>\n",
       "      <th>MAZDA</th>\n",
       "      <td>25.648054</td>\n",
       "    </tr>\n",
       "    <tr>\n",
       "      <th>MERCEDES-BENZ</th>\n",
       "      <td>13.478739</td>\n",
       "    </tr>\n",
       "    <tr>\n",
       "      <th>MINI</th>\n",
       "      <td>14.381356</td>\n",
       "    </tr>\n",
       "    <tr>\n",
       "      <th>MITSUBISHI</th>\n",
       "      <td>31.595803</td>\n",
       "    </tr>\n",
       "    <tr>\n",
       "      <th>MULLEN AUTOMOTIVE INC.</th>\n",
       "      <td>0.000000</td>\n",
       "    </tr>\n",
       "    <tr>\n",
       "      <th>NISSAN</th>\n",
       "      <td>67.922414</td>\n",
       "    </tr>\n",
       "    <tr>\n",
       "      <th>POLESTAR</th>\n",
       "      <td>33.870084</td>\n",
       "    </tr>\n",
       "    <tr>\n",
       "      <th>PORSCHE</th>\n",
       "      <td>53.381255</td>\n",
       "    </tr>\n",
       "    <tr>\n",
       "      <th>RAM</th>\n",
       "      <td>0.000000</td>\n",
       "    </tr>\n",
       "    <tr>\n",
       "      <th>RIVIAN</th>\n",
       "      <td>0.000000</td>\n",
       "    </tr>\n",
       "    <tr>\n",
       "      <th>ROLLS-ROYCE</th>\n",
       "      <td>0.000000</td>\n",
       "    </tr>\n",
       "    <tr>\n",
       "      <th>SMART</th>\n",
       "      <td>61.755274</td>\n",
       "    </tr>\n",
       "    <tr>\n",
       "      <th>SUBARU</th>\n",
       "      <td>0.768316</td>\n",
       "    </tr>\n",
       "    <tr>\n",
       "      <th>TESLA</th>\n",
       "      <td>58.249674</td>\n",
       "    </tr>\n",
       "    <tr>\n",
       "      <th>TH!NK</th>\n",
       "      <td>100.000000</td>\n",
       "    </tr>\n",
       "    <tr>\n",
       "      <th>TOYOTA</th>\n",
       "      <td>27.946218</td>\n",
       "    </tr>\n",
       "    <tr>\n",
       "      <th>VINFAST</th>\n",
       "      <td>0.000000</td>\n",
       "    </tr>\n",
       "    <tr>\n",
       "      <th>VOLKSWAGEN</th>\n",
       "      <td>17.811576</td>\n",
       "    </tr>\n",
       "    <tr>\n",
       "      <th>VOLVO</th>\n",
       "      <td>17.744711</td>\n",
       "    </tr>\n",
       "    <tr>\n",
       "      <th>WHEEGO ELECTRIC CARS</th>\n",
       "      <td>100.000000</td>\n",
       "    </tr>\n",
       "  </tbody>\n",
       "</table>\n",
       "</div>"
      ],
      "text/plain": [
       "                       Electric Range\n",
       "                                 mean\n",
       "Make                                 \n",
       "ACURA                        0.000000\n",
       "ALFA ROMEO                  33.000000\n",
       "AUDI                        41.894436\n",
       "AZURE DYNAMICS              56.000000\n",
       "BENTLEY                     31.250000\n",
       "BMW                         28.916201\n",
       "BRIGHTDROP                   0.000000\n",
       "CADILLAC                     2.414670\n",
       "CHEVROLET                   85.109193\n",
       "CHRYSLER                    32.183099\n",
       "DODGE                       27.500000\n",
       "FIAT                        76.949112\n",
       "FISKER                       2.136691\n",
       "FORD                         7.816654\n",
       "GENESIS                      0.000000\n",
       "GMC                          0.000000\n",
       "HONDA                       17.078250\n",
       "HYUNDAI                     14.522242\n",
       "JAGUAR                     187.200000\n",
       "JEEP                        22.127382\n",
       "KIA                         31.556103\n",
       "LAMBORGHINI                 23.411415\n",
       "LAND ROVER                  47.478788\n",
       "LEXUS                       21.693841\n",
       "LINCOLN                     24.454545\n",
       "LUCID                        0.000000\n",
       "MAZDA                       25.648054\n",
       "MERCEDES-BENZ               13.478739\n",
       "MINI                        14.381356\n",
       "MITSUBISHI                  31.595803\n",
       "MULLEN AUTOMOTIVE INC.       0.000000\n",
       "NISSAN                      67.922414\n",
       "POLESTAR                    33.870084\n",
       "PORSCHE                     53.381255\n",
       "RAM                          0.000000\n",
       "RIVIAN                       0.000000\n",
       "ROLLS-ROYCE                  0.000000\n",
       "SMART                       61.755274\n",
       "SUBARU                       0.768316\n",
       "TESLA                       58.249674\n",
       "TH!NK                      100.000000\n",
       "TOYOTA                      27.946218\n",
       "VINFAST                      0.000000\n",
       "VOLKSWAGEN                  17.811576\n",
       "VOLVO                       17.744711\n",
       "WHEEGO ELECTRIC CARS       100.000000"
      ]
     },
     "execution_count": 39,
     "metadata": {},
     "output_type": "execute_result"
    }
   ],
   "source": [
    "aggregated_df"
   ]
  },
  {
   "cell_type": "code",
   "execution_count": 40,
   "id": "c10aeaa8-5cdf-4672-a121-b98cd2c78c3c",
   "metadata": {},
   "outputs": [],
   "source": [
    "aggregated_df2 = df.groupby('Model').agg({'Electric Range': ['mean']}).sort_index()"
   ]
  },
  {
   "cell_type": "code",
   "execution_count": 41,
   "id": "01e5ee6f-5a71-458a-94a5-304c08d11017",
   "metadata": {},
   "outputs": [
    {
     "data": {
      "text/html": [
       "<div>\n",
       "<style scoped>\n",
       "    .dataframe tbody tr th:only-of-type {\n",
       "        vertical-align: middle;\n",
       "    }\n",
       "\n",
       "    .dataframe tbody tr th {\n",
       "        vertical-align: top;\n",
       "    }\n",
       "\n",
       "    .dataframe thead tr th {\n",
       "        text-align: left;\n",
       "    }\n",
       "\n",
       "    .dataframe thead tr:last-of-type th {\n",
       "        text-align: right;\n",
       "    }\n",
       "</style>\n",
       "<table border=\"1\" class=\"dataframe\">\n",
       "  <thead>\n",
       "    <tr>\n",
       "      <th></th>\n",
       "      <th>Electric Range</th>\n",
       "    </tr>\n",
       "    <tr>\n",
       "      <th></th>\n",
       "      <th>mean</th>\n",
       "    </tr>\n",
       "    <tr>\n",
       "      <th>Model</th>\n",
       "      <th></th>\n",
       "    </tr>\n",
       "  </thead>\n",
       "  <tbody>\n",
       "    <tr>\n",
       "      <th>330E</th>\n",
       "      <td>18.432122</td>\n",
       "    </tr>\n",
       "    <tr>\n",
       "      <th>500</th>\n",
       "      <td>85.555263</td>\n",
       "    </tr>\n",
       "    <tr>\n",
       "      <th>500E</th>\n",
       "      <td>0.000000</td>\n",
       "    </tr>\n",
       "    <tr>\n",
       "      <th>530E</th>\n",
       "      <td>16.156600</td>\n",
       "    </tr>\n",
       "    <tr>\n",
       "      <th>550E</th>\n",
       "      <td>40.000000</td>\n",
       "    </tr>\n",
       "    <tr>\n",
       "      <th>...</th>\n",
       "      <td>...</td>\n",
       "    </tr>\n",
       "    <tr>\n",
       "      <th>XC60</th>\n",
       "      <td>28.141800</td>\n",
       "    </tr>\n",
       "    <tr>\n",
       "      <th>XC90</th>\n",
       "      <td>24.887746</td>\n",
       "    </tr>\n",
       "    <tr>\n",
       "      <th>XM</th>\n",
       "      <td>31.000000</td>\n",
       "    </tr>\n",
       "    <tr>\n",
       "      <th>ZDX</th>\n",
       "      <td>0.000000</td>\n",
       "    </tr>\n",
       "    <tr>\n",
       "      <th>ZEVO</th>\n",
       "      <td>0.000000</td>\n",
       "    </tr>\n",
       "  </tbody>\n",
       "</table>\n",
       "<p>177 rows × 1 columns</p>\n",
       "</div>"
      ],
      "text/plain": [
       "      Electric Range\n",
       "                mean\n",
       "Model               \n",
       "330E       18.432122\n",
       "500        85.555263\n",
       "500E        0.000000\n",
       "530E       16.156600\n",
       "550E       40.000000\n",
       "...              ...\n",
       "XC60       28.141800\n",
       "XC90       24.887746\n",
       "XM         31.000000\n",
       "ZDX         0.000000\n",
       "ZEVO        0.000000\n",
       "\n",
       "[177 rows x 1 columns]"
      ]
     },
     "execution_count": 41,
     "metadata": {},
     "output_type": "execute_result"
    }
   ],
   "source": [
    "aggregated_df2"
   ]
  },
  {
   "cell_type": "markdown",
   "id": "6be3600d-ac6a-43fb-a9db-c8771a823d98",
   "metadata": {},
   "source": [
    "### 🔹 Are there any regional trends in EV adoption (e.g., urban vs. rural)?\n",
    "\n",
    "Yes, there are clear regional trends in EV adoption across urban and rural areas.\n",
    "\n",
    "Urban areas such as Seattle, Bellevue, and Redmond show significantly higher EV adoption. These cities fall within counties like King, Pierce, and Snohomish, which also top the EV registration list. These regions benefit from better charging infrastructure, higher income levels, public awareness, and green energy incentives.\n",
    "\n",
    "In contrast, rural counties show much lower EV adoption, possibly due to limited charging stations, longer commutes, and fewer local incentives.\n",
    "\n",
    "This trend suggests that EV adoption is closely linked to urbanization, accessibility, and infrastructure readiness."
   ]
  },
  {
   "cell_type": "markdown",
   "id": "ecfecbac-4a75-4240-99c5-a51c45fa9843",
   "metadata": {},
   "source": [
    "### SECTION-3 DATA VISUALIZATION"
   ]
  },
  {
   "cell_type": "markdown",
   "id": "92b39ec3-24ee-4607-bd24-cd91c380fdb2",
   "metadata": {},
   "source": [
    "### BAR CHART SHOWING  TOP 5 EV MAKE AND MODEL"
   ]
  },
  {
   "cell_type": "code",
   "execution_count": 45,
   "id": "e9e09e56-2c90-4cd3-8b2b-f4d8f0aa5126",
   "metadata": {},
   "outputs": [],
   "source": [
    "top_5_combo=df.groupby([\"Make\",\"Model\",\"County\"]).size().sort_values(ascending=False).head(5)"
   ]
  },
  {
   "cell_type": "code",
   "execution_count": 46,
   "id": "5b1e4c2e-d14e-4603-90f4-bc538d73b467",
   "metadata": {},
   "outputs": [
    {
     "data": {
      "text/plain": [
       "Make    Model    County   \n",
       "TESLA   MODEL Y  King         27858\n",
       "        MODEL 3  King         19813\n",
       "        MODEL Y  Snohomish     8100\n",
       "NISSAN  LEAF     King          6627\n",
       "TESLA   MODEL 3  Snohomish     5026\n",
       "dtype: int64"
      ]
     },
     "execution_count": 46,
     "metadata": {},
     "output_type": "execute_result"
    }
   ],
   "source": [
    "top_5_combo"
   ]
  },
  {
   "cell_type": "code",
   "execution_count": 47,
   "id": "e62e023a-d871-40d1-8753-ece5ee6f8bb5",
   "metadata": {},
   "outputs": [
    {
     "data": {
      "image/png": "[encoded data removed]",
      "text/plain": [
       "<Figure size 1200x600 with 1 Axes>"
      ]
     },
     "metadata": {},
     "output_type": "display_data"
    }
   ],
   "source": [
    "top_5_combo.plot(kind=\"bar\",color=\"skyblue\",figsize=(12,6),title=\"top 5 ev make and model by county\")\n",
    "plt.xlabel(\"county/make/model\")\n",
    "plt.ylabel(\"number of ev's\")\n",
    "plt.xticks(rotation=45,ha=\"right\")\n",
    "plt.tight_layout()\n",
    "plt.show()"
   ]
  },
  {
   "cell_type": "markdown",
   "id": "b581490a-0350-46f7-bad7-c13771597879",
   "metadata": {},
   "source": [
    "### EV DISTRIBUTION BY COUNTY"
   ]
  },
  {
   "cell_type": "code",
   "execution_count": 48,
   "id": "1c38c1d0-f09c-41cb-8082-d886769d05dc",
   "metadata": {},
   "outputs": [
    {
     "data": {
      "image/png": "[encoded data removed]",
      "text/plain": [
       "<Figure size 640x480 with 1 Axes>"
      ]
     },
     "metadata": {},
     "output_type": "display_data"
    }
   ],
   "source": [
    "import matplotlib.pyplot as plt\n",
    "\n",
    "#  Count EVs per county\n",
    "ev_by_county = df['County'].value_counts().head(10)\n",
    "\n",
    "colors = plt.cm.OrRd(ev_by_county / ev_by_county.max())\n",
    "\n",
    "\n",
    "ev_by_county.plot(kind='bar', color=colors, title='EV Distribution by County (Heat Style)')\n",
    "plt.xlabel('County')\n",
    "plt.ylabel('Number of EVs')\n",
    "plt.xticks(rotation=45)\n",
    "plt.tight_layout()\n",
    "plt.show()"
   ]
  },
  {
   "cell_type": "markdown",
   "id": "f58f5738-fe5a-40d2-b20e-6c922f1a7b00",
   "metadata": {},
   "source": [
    "### EV ADOPTION BY MODEL YEAR"
   ]
  },
  {
   "cell_type": "code",
   "execution_count": 50,
   "id": "a4657e1a-aada-47d6-8b9f-f86027008689",
   "metadata": {},
   "outputs": [],
   "source": [
    "EV_Adoption=df[\"Model Year\"].value_counts().sort_index()"
   ]
  },
  {
   "cell_type": "code",
   "execution_count": 51,
   "id": "c2a6eebf-9823-4013-a173-200d8d963e7c",
   "metadata": {},
   "outputs": [
    {
     "data": {
      "text/plain": [
       "Model Year\n",
       "2000        8\n",
       "2002        2\n",
       "2003        1\n",
       "2008       17\n",
       "2010       23\n",
       "2011      656\n",
       "2012     1462\n",
       "2013     4168\n",
       "2014     3364\n",
       "2015     4613\n",
       "2016     5302\n",
       "2017     8755\n",
       "2018    14504\n",
       "2019    11055\n",
       "2020    12390\n",
       "2021    20794\n",
       "2022    29337\n",
       "2023    59088\n",
       "2024    49799\n",
       "2025    20820\n",
       "2026     1186\n",
       "Name: count, dtype: int64"
      ]
     },
     "execution_count": 51,
     "metadata": {},
     "output_type": "execute_result"
    }
   ],
   "source": [
    "EV_Adoption"
   ]
  },
  {
   "cell_type": "code",
   "execution_count": 52,
   "id": "b2584a87-c6c4-4286-9b76-d04dbbc596cf",
   "metadata": {},
   "outputs": [],
   "source": [
    "import matplotlib.pyplot as plt"
   ]
  },
  {
   "cell_type": "code",
   "execution_count": 53,
   "id": "a5b3e696-d199-4bdd-8475-d3043ce37d27",
   "metadata": {},
   "outputs": [
    {
     "data": {
      "image/png": "[encoded data removed]",
      "text/plain": [
       "<Figure size 1200x600 with 1 Axes>"
      ]
     },
     "metadata": {},
     "output_type": "display_data"
    }
   ],
   "source": [
    "EV_Adoption.plot(kind=\"line\",color=\"skyblue\",figsize=(12,6),title=\"EV ADOPTION BY MODEL YEAR\")\n",
    "plt.xlabel(\"Model Year\")\n",
    "plt.ylabel(\"count of EVs\")\n",
    "plt.xticks(rotation=45)\n",
    "plt.tight_layout()\n",
    "plt.show()"
   ]
  },
  {
   "cell_type": "markdown",
   "id": "8c0976c9-60d4-48f3-842b-c2ba91f55a9d",
   "metadata": {},
   "source": [
    "### A scatter plot was generated to compare Electric Range and Base MSRP.\n",
    "The plot helps visualize whether vehicles with higher range tend to have higher pricing.\n",
    "We observe that while there is some correlation, many mid-priced EVs also offer good range.\n"
   ]
  },
  {
   "cell_type": "code",
   "execution_count": 55,
   "id": "7c6b9bd7-347f-442a-a114-30c646310a77",
   "metadata": {},
   "outputs": [
    {
     "data": {
      "image/png": "[encoded data removed]",
      "text/plain": [
       "<Figure size 640x480 with 1 Axes>"
      ]
     },
     "metadata": {},
     "output_type": "display_data"
    }
   ],
   "source": [
    "plt.scatter(df[\"Electric Range\"],df[\"Base MSRP\"],color=\"red\")\n",
    "plt.xlabel(\"Electric Range\")\n",
    "plt.ylabel(\"Base MSRP\")\n",
    "plt.title(\"Electric Range vs Base MSRP\")\n",
    "plt.grid(True)\n",
    "plt.tight_layout()\n",
    "plt.show()"
   ]
  },
  {
   "cell_type": "markdown",
   "id": "a2ba5041-659e-4b35-a449-603cd3d5fd39",
   "metadata": {},
   "source": [
    "### plot a pie chart showing the proportion of cafv elgible vs. no eligible"
   ]
  },
  {
   "cell_type": "code",
   "execution_count": 56,
   "id": "48f077f8-5a8c-4ec6-978c-4ae165725e12",
   "metadata": {},
   "outputs": [],
   "source": [
    "proportion=df[\"Clean Alternative Fuel Vehicle (CAFV) Eligibility\"].value_counts(normalize=True)*100\n"
   ]
  },
  {
   "cell_type": "code",
   "execution_count": 57,
   "id": "bfdc5966-a204-44d2-9313-8d3cc49fd9f5",
   "metadata": {},
   "outputs": [
    {
     "data": {
      "image/png": "[encoded data removed]",
      "text/plain": [
       "<Figure size 640x480 with 1 Axes>"
      ]
     },
     "metadata": {},
     "output_type": "display_data"
    }
   ],
   "source": [
    "proportion.plot(kind=\"pie\",\n",
    "autopct=\"%1.1f%%\",\n",
    "startangle=90,\n",
    "colors=[\"lightgreen\",\"lightcoral\"],\n",
    "title=\"CAFV Eligibilty Proportion\"\n",
    ",ylabel=\"\")\n",
    "\n",
    "\n",
    "plt.tight_layout()\n",
    "plt.show()\n"
   ]
  },
  {
   "cell_type": "markdown",
   "id": "8438bded-e381-4917-adbe-8738d402422c",
   "metadata": {},
   "source": [
    "### EV Registrations by Vehicle Location"
   ]
  },
  {
   "cell_type": "code",
   "execution_count": 58,
   "id": "5a02e31a-cd56-44a4-bbd8-5397fd997ef3",
   "metadata": {},
   "outputs": [],
   "source": [
    "import matplotlib.pyplot as plt\n",
    "\n",
    "location_data = df.dropna(subset=['Latitude', 'Longitude'])\n"
   ]
  },
  {
   "cell_type": "code",
   "execution_count": 59,
   "id": "6b199e07-129c-444b-9208-1e9356c2f903",
   "metadata": {},
   "outputs": [
    {
     "data": {
      "image/png": "[encoded data removed]",
      "text/plain": [
       "<Figure size 1000x600 with 1 Axes>"
      ]
     },
     "metadata": {},
     "output_type": "display_data"
    }
   ],
   "source": [
    "plt.figure(figsize=(10, 6))\n",
    "plt.scatter(location_data['Longitude'], location_data['Latitude'], s=5, color='blue')\n",
    "\n",
    "plt.xlabel(\"Longitude\")\n",
    "plt.ylabel(\"Latitude\")\n",
    "plt.title(\"EV Registrations by Vehicle Location (GPS)\")\n",
    "plt.grid(True)\n",
    "plt.tight_layout()\n",
    "plt.show()"
   ]
  },
  {
   "cell_type": "markdown",
   "id": "f46d9241-5f70-460a-ae4d-99bc99cbbcac",
   "metadata": {},
   "source": [
    "### SECTION-4 LINEAR REGRESSION MODEL"
   ]
  },
  {
   "cell_type": "markdown",
   "id": "57939e5a-bffd-4d3f-ae8c-431614bc5df9",
   "metadata": {},
   "source": [
    "### 🚴🏻‍♀ linear regression to predict electric range of a vehcile"
   ]
  },
  {
   "cell_type": "code",
   "execution_count": 64,
   "id": "43551f80-a8bd-4a37-854e-7f76eb6607ab",
   "metadata": {},
   "outputs": [
    {
     "name": "stdout",
     "output_type": "stream",
     "text": [
      "Requirement already satisfied: scikit-learn in c:\\users\\dell\\appdata\\local\\programs\\python\\python313\\lib\\site-packages (1.7.0)\n",
      "Requirement already satisfied: numpy>=1.22.0 in c:\\users\\dell\\appdata\\local\\programs\\python\\python313\\lib\\site-packages (from scikit-learn) (2.2.4)\n",
      "Requirement already satisfied: scipy>=1.8.0 in c:\\users\\dell\\appdata\\local\\programs\\python\\python313\\lib\\site-packages (from scikit-learn) (1.16.0)\n",
      "Requirement already satisfied: joblib>=1.2.0 in c:\\users\\dell\\appdata\\local\\programs\\python\\python313\\lib\\site-packages (from scikit-learn) (1.5.1)\n",
      "Requirement already satisfied: threadpoolctl>=3.1.0 in c:\\users\\dell\\appdata\\local\\programs\\python\\python313\\lib\\site-packages (from scikit-learn) (3.6.0)\n"
     ]
    },
    {
     "name": "stderr",
     "output_type": "stream",
     "text": [
      "\n",
      "[notice] A new release of pip is available: 25.0.1 -> 25.1.1\n",
      "[notice] To update, run: python.exe -m pip install --upgrade pip\n"
     ]
    }
   ],
   "source": [
    "!pip install scikit-learn"
   ]
  },
  {
   "cell_type": "code",
   "execution_count": 71,
   "id": "9c61380e-9912-4497-9d32-d516388016d0",
   "metadata": {},
   "outputs": [],
   "source": [
    "from sklearn.linear_model import LinearRegression\n",
    "from sklearn.model_selection import train_test_split\n",
    "from sklearn.metrics import r2_score"
   ]
  },
  {
   "cell_type": "code",
   "execution_count": 72,
   "id": "b60efc8a-3d0d-4cf0-b0f6-93e3f1f8d575",
   "metadata": {},
   "outputs": [],
   "source": [
    "#select useful column and drop missing values\n",
    "df_model=df[[\"Model Year\",\"Base MSRP\",\"Electric Range\"]].dropna()\n",
    "\n"
   ]
  },
  {
   "cell_type": "code",
   "execution_count": 74,
   "id": "eb3c64da-4bbf-4fca-8059-c1e969209f22",
   "metadata": {},
   "outputs": [],
   "source": [
    "#features(x) and target(y)\n",
    "x=df_model[[\"Model Year\",\"Base MSRP\"]]\n",
    "y=df_model[\"Electric Range\"]"
   ]
  },
  {
   "cell_type": "code",
   "execution_count": 76,
   "id": "02ffb6be-e6e7-42d9-97a0-bab6bab78741",
   "metadata": {},
   "outputs": [],
   "source": [
    "#split into traing and testing sets\n",
    "x_train ,x_test,y_train,y_test=train_test_split(x,y,test_size=0.2,random_state=1)"
   ]
  },
  {
   "cell_type": "code",
   "execution_count": 77,
   "id": "bf8fe761-6266-46ce-974e-9f682f449e4b",
   "metadata": {},
   "outputs": [
    {
     "data": {
      "text/html": [
       "<style>#sk-container-id-1 {\n",
       "  /* Definition of color scheme common for light and dark mode */\n",
       "  --sklearn-color-text: #000;\n",
       "  --sklearn-color-text-muted: #666;\n",
       "  --sklearn-color-line: gray;\n",
       "  /* Definition of color scheme for unfitted estimators */\n",
       "  --sklearn-color-unfitted-level-0: #fff5e6;\n",
       "  --sklearn-color-unfitted-level-1: #f6e4d2;\n",
       "  --sklearn-color-unfitted-level-2: #ffe0b3;\n",
       "  --sklearn-color-unfitted-level-3: chocolate;\n",
       "  /* Definition of color scheme for fitted estimators */\n",
       "  --sklearn-color-fitted-level-0: #f0f8ff;\n",
       "  --sklearn-color-fitted-level-1: #d4ebff;\n",
       "  --sklearn-color-fitted-level-2: #b3dbfd;\n",
       "  --sklearn-color-fitted-level-3: cornflowerblue;\n",
       "\n",
       "  /* Specific color for light theme */\n",
       "  --sklearn-color-text-on-default-background: var(--sg-text-color, var(--theme-code-foreground, var(--jp-content-font-color1, black)));\n",
       "  --sklearn-color-background: var(--sg-background-color, var(--theme-background, var(--jp-layout-color0, white)));\n",
       "  --sklearn-color-border-box: var(--sg-text-color, var(--theme-code-foreground, var(--jp-content-font-color1, black)));\n",
       "  --sklearn-color-icon: #696969;\n",
       "\n",
       "  @media (prefers-color-scheme: dark) {\n",
       "    /* Redefinition of color scheme for dark theme */\n",
       "    --sklearn-color-text-on-default-background: var(--sg-text-color, var(--theme-code-foreground, var(--jp-content-font-color1, white)));\n",
       "    --sklearn-color-background: var(--sg-background-color, var(--theme-background, var(--jp-layout-color0, #111)));\n",
       "    --sklearn-color-border-box: var(--sg-text-color, var(--theme-code-foreground, var(--jp-content-font-color1, white)));\n",
       "    --sklearn-color-icon: #878787;\n",
       "  }\n",
       "}\n",
       "\n",
       "#sk-container-id-1 {\n",
       "  color: var(--sklearn-color-text);\n",
       "}\n",
       "\n",
       "#sk-container-id-1 pre {\n",
       "  padding: 0;\n",
       "}\n",
       "\n",
       "#sk-container-id-1 input.sk-hidden--visually {\n",
       "  border: 0;\n",
       "  clip: rect(1px 1px 1px 1px);\n",
       "  clip: rect(1px, 1px, 1px, 1px);\n",
       "  height: 1px;\n",
       "  margin: -1px;\n",
       "  overflow: hidden;\n",
       "  padding: 0;\n",
       "  position: absolute;\n",
       "  width: 1px;\n",
       "}\n",
       "\n",
       "#sk-container-id-1 div.sk-dashed-wrapped {\n",
       "  border: 1px dashed var(--sklearn-color-line);\n",
       "  margin: 0 0.4em 0.5em 0.4em;\n",
       "  box-sizing: border-box;\n",
       "  padding-bottom: 0.4em;\n",
       "  background-color: var(--sklearn-color-background);\n",
       "}\n",
       "\n",
       "#sk-container-id-1 div.sk-container {\n",
       "  /* jupyter's `normalize.less` sets `[hidden] { display: none; }`\n",
       "     but bootstrap.min.css set `[hidden] { display: none !important; }`\n",
       "     so we also need the `!important` here to be able to override the\n",
       "     default hidden behavior on the sphinx rendered scikit-learn.org.\n",
       "     See: https://github.com/scikit-learn/scikit-learn/issues/21755 */\n",
       "  display: inline-block !important;\n",
       "  position: relative;\n",
       "}\n",
       "\n",
       "#sk-container-id-1 div.sk-text-repr-fallback {\n",
       "  display: none;\n",
       "}\n",
       "\n",
       "div.sk-parallel-item,\n",
       "div.sk-serial,\n",
       "div.sk-item {\n",
       "  /* draw centered vertical line to link estimators */\n",
       "  background-image: linear-gradient(var(--sklearn-color-text-on-default-background), var(--sklearn-color-text-on-default-background));\n",
       "  background-size: 2px 100%;\n",
       "  background-repeat: no-repeat;\n",
       "  background-position: center center;\n",
       "}\n",
       "\n",
       "/* Parallel-specific style estimator block */\n",
       "\n",
       "#sk-container-id-1 div.sk-parallel-item::after {\n",
       "  content: \"\";\n",
       "  width: 100%;\n",
       "  border-bottom: 2px solid var(--sklearn-color-text-on-default-background);\n",
       "  flex-grow: 1;\n",
       "}\n",
       "\n",
       "#sk-container-id-1 div.sk-parallel {\n",
       "  display: flex;\n",
       "  align-items: stretch;\n",
       "  justify-content: center;\n",
       "  background-color: var(--sklearn-color-background);\n",
       "  position: relative;\n",
       "}\n",
       "\n",
       "#sk-container-id-1 div.sk-parallel-item {\n",
       "  display: flex;\n",
       "  flex-direction: column;\n",
       "}\n",
       "\n",
       "#sk-container-id-1 div.sk-parallel-item:first-child::after {\n",
       "  align-self: flex-end;\n",
       "  width: 50%;\n",
       "}\n",
       "\n",
       "#sk-container-id-1 div.sk-parallel-item:last-child::after {\n",
       "  align-self: flex-start;\n",
       "  width: 50%;\n",
       "}\n",
       "\n",
       "#sk-container-id-1 div.sk-parallel-item:only-child::after {\n",
       "  width: 0;\n",
       "}\n",
       "\n",
       "/* Serial-specific style estimator block */\n",
       "\n",
       "#sk-container-id-1 div.sk-serial {\n",
       "  display: flex;\n",
       "  flex-direction: column;\n",
       "  align-items: center;\n",
       "  background-color: var(--sklearn-color-background);\n",
       "  padding-right: 1em;\n",
       "  padding-left: 1em;\n",
       "}\n",
       "\n",
       "\n",
       "/* Toggleable style: style used for estimator/Pipeline/ColumnTransformer box that is\n",
       "clickable and can be expanded/collapsed.\n",
       "- Pipeline and ColumnTransformer use this feature and define the default style\n",
       "- Estimators will overwrite some part of the style using the `sk-estimator` class\n",
       "*/\n",
       "\n",
       "/* Pipeline and ColumnTransformer style (default) */\n",
       "\n",
       "#sk-container-id-1 div.sk-toggleable {\n",
       "  /* Default theme specific background. It is overwritten whether we have a\n",
       "  specific estimator or a Pipeline/ColumnTransformer */\n",
       "  background-color: var(--sklearn-color-background);\n",
       "}\n",
       "\n",
       "/* Toggleable label */\n",
       "#sk-container-id-1 label.sk-toggleable__label {\n",
       "  cursor: pointer;\n",
       "  display: flex;\n",
       "  width: 100%;\n",
       "  margin-bottom: 0;\n",
       "  padding: 0.5em;\n",
       "  box-sizing: border-box;\n",
       "  text-align: center;\n",
       "  align-items: start;\n",
       "  justify-content: space-between;\n",
       "  gap: 0.5em;\n",
       "}\n",
       "\n",
       "#sk-container-id-1 label.sk-toggleable__label .caption {\n",
       "  font-size: 0.6rem;\n",
       "  font-weight: lighter;\n",
       "  color: var(--sklearn-color-text-muted);\n",
       "}\n",
       "\n",
       "#sk-container-id-1 label.sk-toggleable__label-arrow:before {\n",
       "  /* Arrow on the left of the label */\n",
       "  content: \"▸\";\n",
       "  float: left;\n",
       "  margin-right: 0.25em;\n",
       "  color: var(--sklearn-color-icon);\n",
       "}\n",
       "\n",
       "#sk-container-id-1 label.sk-toggleable__label-arrow:hover:before {\n",
       "  color: var(--sklearn-color-text);\n",
       "}\n",
       "\n",
       "/* Toggleable content - dropdown */\n",
       "\n",
       "#sk-container-id-1 div.sk-toggleable__content {\n",
       "  display: none;\n",
       "  text-align: left;\n",
       "  /* unfitted */\n",
       "  background-color: var(--sklearn-color-unfitted-level-0);\n",
       "}\n",
       "\n",
       "#sk-container-id-1 div.sk-toggleable__content.fitted {\n",
       "  /* fitted */\n",
       "  background-color: var(--sklearn-color-fitted-level-0);\n",
       "}\n",
       "\n",
       "#sk-container-id-1 div.sk-toggleable__content pre {\n",
       "  margin: 0.2em;\n",
       "  border-radius: 0.25em;\n",
       "  color: var(--sklearn-color-text);\n",
       "  /* unfitted */\n",
       "  background-color: var(--sklearn-color-unfitted-level-0);\n",
       "}\n",
       "\n",
       "#sk-container-id-1 div.sk-toggleable__content.fitted pre {\n",
       "  /* unfitted */\n",
       "  background-color: var(--sklearn-color-fitted-level-0);\n",
       "}\n",
       "\n",
       "#sk-container-id-1 input.sk-toggleable__control:checked~div.sk-toggleable__content {\n",
       "  /* Expand drop-down */\n",
       "  display: block;\n",
       "  width: 100%;\n",
       "  overflow: visible;\n",
       "}\n",
       "\n",
       "#sk-container-id-1 input.sk-toggleable__control:checked~label.sk-toggleable__label-arrow:before {\n",
       "  content: \"▾\";\n",
       "}\n",
       "\n",
       "/* Pipeline/ColumnTransformer-specific style */\n",
       "\n",
       "#sk-container-id-1 div.sk-label input.sk-toggleable__control:checked~label.sk-toggleable__label {\n",
       "  color: var(--sklearn-color-text);\n",
       "  background-color: var(--sklearn-color-unfitted-level-2);\n",
       "}\n",
       "\n",
       "#sk-container-id-1 div.sk-label.fitted input.sk-toggleable__control:checked~label.sk-toggleable__label {\n",
       "  background-color: var(--sklearn-color-fitted-level-2);\n",
       "}\n",
       "\n",
       "/* Estimator-specific style */\n",
       "\n",
       "/* Colorize estimator box */\n",
       "#sk-container-id-1 div.sk-estimator input.sk-toggleable__control:checked~label.sk-toggleable__label {\n",
       "  /* unfitted */\n",
       "  background-color: var(--sklearn-color-unfitted-level-2);\n",
       "}\n",
       "\n",
       "#sk-container-id-1 div.sk-estimator.fitted input.sk-toggleable__control:checked~label.sk-toggleable__label {\n",
       "  /* fitted */\n",
       "  background-color: var(--sklearn-color-fitted-level-2);\n",
       "}\n",
       "\n",
       "#sk-container-id-1 div.sk-label label.sk-toggleable__label,\n",
       "#sk-container-id-1 div.sk-label label {\n",
       "  /* The background is the default theme color */\n",
       "  color: var(--sklearn-color-text-on-default-background);\n",
       "}\n",
       "\n",
       "/* On hover, darken the color of the background */\n",
       "#sk-container-id-1 div.sk-label:hover label.sk-toggleable__label {\n",
       "  color: var(--sklearn-color-text);\n",
       "  background-color: var(--sklearn-color-unfitted-level-2);\n",
       "}\n",
       "\n",
       "/* Label box, darken color on hover, fitted */\n",
       "#sk-container-id-1 div.sk-label.fitted:hover label.sk-toggleable__label.fitted {\n",
       "  color: var(--sklearn-color-text);\n",
       "  background-color: var(--sklearn-color-fitted-level-2);\n",
       "}\n",
       "\n",
       "/* Estimator label */\n",
       "\n",
       "#sk-container-id-1 div.sk-label label {\n",
       "  font-family: monospace;\n",
       "  font-weight: bold;\n",
       "  display: inline-block;\n",
       "  line-height: 1.2em;\n",
       "}\n",
       "\n",
       "#sk-container-id-1 div.sk-label-container {\n",
       "  text-align: center;\n",
       "}\n",
       "\n",
       "/* Estimator-specific */\n",
       "#sk-container-id-1 div.sk-estimator {\n",
       "  font-family: monospace;\n",
       "  border: 1px dotted var(--sklearn-color-border-box);\n",
       "  border-radius: 0.25em;\n",
       "  box-sizing: border-box;\n",
       "  margin-bottom: 0.5em;\n",
       "  /* unfitted */\n",
       "  background-color: var(--sklearn-color-unfitted-level-0);\n",
       "}\n",
       "\n",
       "#sk-container-id-1 div.sk-estimator.fitted {\n",
       "  /* fitted */\n",
       "  background-color: var(--sklearn-color-fitted-level-0);\n",
       "}\n",
       "\n",
       "/* on hover */\n",
       "#sk-container-id-1 div.sk-estimator:hover {\n",
       "  /* unfitted */\n",
       "  background-color: var(--sklearn-color-unfitted-level-2);\n",
       "}\n",
       "\n",
       "#sk-container-id-1 div.sk-estimator.fitted:hover {\n",
       "  /* fitted */\n",
       "  background-color: var(--sklearn-color-fitted-level-2);\n",
       "}\n",
       "\n",
       "/* Specification for estimator info (e.g. \"i\" and \"?\") */\n",
       "\n",
       "/* Common style for \"i\" and \"?\" */\n",
       "\n",
       ".sk-estimator-doc-link,\n",
       "a:link.sk-estimator-doc-link,\n",
       "a:visited.sk-estimator-doc-link {\n",
       "  float: right;\n",
       "  font-size: smaller;\n",
       "  line-height: 1em;\n",
       "  font-family: monospace;\n",
       "  background-color: var(--sklearn-color-background);\n",
       "  border-radius: 1em;\n",
       "  height: 1em;\n",
       "  width: 1em;\n",
       "  text-decoration: none !important;\n",
       "  margin-left: 0.5em;\n",
       "  text-align: center;\n",
       "  /* unfitted */\n",
       "  border: var(--sklearn-color-unfitted-level-1) 1pt solid;\n",
       "  color: var(--sklearn-color-unfitted-level-1);\n",
       "}\n",
       "\n",
       ".sk-estimator-doc-link.fitted,\n",
       "a:link.sk-estimator-doc-link.fitted,\n",
       "a:visited.sk-estimator-doc-link.fitted {\n",
       "  /* fitted */\n",
       "  border: var(--sklearn-color-fitted-level-1) 1pt solid;\n",
       "  color: var(--sklearn-color-fitted-level-1);\n",
       "}\n",
       "\n",
       "/* On hover */\n",
       "div.sk-estimator:hover .sk-estimator-doc-link:hover,\n",
       ".sk-estimator-doc-link:hover,\n",
       "div.sk-label-container:hover .sk-estimator-doc-link:hover,\n",
       ".sk-estimator-doc-link:hover {\n",
       "  /* unfitted */\n",
       "  background-color: var(--sklearn-color-unfitted-level-3);\n",
       "  color: var(--sklearn-color-background);\n",
       "  text-decoration: none;\n",
       "}\n",
       "\n",
       "div.sk-estimator.fitted:hover .sk-estimator-doc-link.fitted:hover,\n",
       ".sk-estimator-doc-link.fitted:hover,\n",
       "div.sk-label-container:hover .sk-estimator-doc-link.fitted:hover,\n",
       ".sk-estimator-doc-link.fitted:hover {\n",
       "  /* fitted */\n",
       "  background-color: var(--sklearn-color-fitted-level-3);\n",
       "  color: var(--sklearn-color-background);\n",
       "  text-decoration: none;\n",
       "}\n",
       "\n",
       "/* Span, style for the box shown on hovering the info icon */\n",
       ".sk-estimator-doc-link span {\n",
       "  display: none;\n",
       "  z-index: 9999;\n",
       "  position: relative;\n",
       "  font-weight: normal;\n",
       "  right: .2ex;\n",
       "  padding: .5ex;\n",
       "  margin: .5ex;\n",
       "  width: min-content;\n",
       "  min-width: 20ex;\n",
       "  max-width: 50ex;\n",
       "  color: var(--sklearn-color-text);\n",
       "  box-shadow: 2pt 2pt 4pt #999;\n",
       "  /* unfitted */\n",
       "  background: var(--sklearn-color-unfitted-level-0);\n",
       "  border: .5pt solid var(--sklearn-color-unfitted-level-3);\n",
       "}\n",
       "\n",
       ".sk-estimator-doc-link.fitted span {\n",
       "  /* fitted */\n",
       "  background: var(--sklearn-color-fitted-level-0);\n",
       "  border: var(--sklearn-color-fitted-level-3);\n",
       "}\n",
       "\n",
       ".sk-estimator-doc-link:hover span {\n",
       "  display: block;\n",
       "}\n",
       "\n",
       "/* \"?\"-specific style due to the `<a>` HTML tag */\n",
       "\n",
       "#sk-container-id-1 a.estimator_doc_link {\n",
       "  float: right;\n",
       "  font-size: 1rem;\n",
       "  line-height: 1em;\n",
       "  font-family: monospace;\n",
       "  background-color: var(--sklearn-color-background);\n",
       "  border-radius: 1rem;\n",
       "  height: 1rem;\n",
       "  width: 1rem;\n",
       "  text-decoration: none;\n",
       "  /* unfitted */\n",
       "  color: var(--sklearn-color-unfitted-level-1);\n",
       "  border: var(--sklearn-color-unfitted-level-1) 1pt solid;\n",
       "}\n",
       "\n",
       "#sk-container-id-1 a.estimator_doc_link.fitted {\n",
       "  /* fitted */\n",
       "  border: var(--sklearn-color-fitted-level-1) 1pt solid;\n",
       "  color: var(--sklearn-color-fitted-level-1);\n",
       "}\n",
       "\n",
       "/* On hover */\n",
       "#sk-container-id-1 a.estimator_doc_link:hover {\n",
       "  /* unfitted */\n",
       "  background-color: var(--sklearn-color-unfitted-level-3);\n",
       "  color: var(--sklearn-color-background);\n",
       "  text-decoration: none;\n",
       "}\n",
       "\n",
       "#sk-container-id-1 a.estimator_doc_link.fitted:hover {\n",
       "  /* fitted */\n",
       "  background-color: var(--sklearn-color-fitted-level-3);\n",
       "}\n",
       "\n",
       ".estimator-table summary {\n",
       "    padding: .5rem;\n",
       "    font-family: monospace;\n",
       "    cursor: pointer;\n",
       "}\n",
       "\n",
       ".estimator-table details[open] {\n",
       "    padding-left: 0.1rem;\n",
       "    padding-right: 0.1rem;\n",
       "    padding-bottom: 0.3rem;\n",
       "}\n",
       "\n",
       ".estimator-table .parameters-table {\n",
       "    margin-left: auto !important;\n",
       "    margin-right: auto !important;\n",
       "}\n",
       "\n",
       ".estimator-table .parameters-table tr:nth-child(odd) {\n",
       "    background-color: #fff;\n",
       "}\n",
       "\n",
       ".estimator-table .parameters-table tr:nth-child(even) {\n",
       "    background-color: #f6f6f6;\n",
       "}\n",
       "\n",
       ".estimator-table .parameters-table tr:hover {\n",
       "    background-color: #e0e0e0;\n",
       "}\n",
       "\n",
       ".estimator-table table td {\n",
       "    border: 1px solid rgba(106, 105, 104, 0.232);\n",
       "}\n",
       "\n",
       ".user-set td {\n",
       "    color:rgb(255, 94, 0);\n",
       "    text-align: left;\n",
       "}\n",
       "\n",
       ".user-set td.value pre {\n",
       "    color:rgb(255, 94, 0) !important;\n",
       "    background-color: transparent !important;\n",
       "}\n",
       "\n",
       ".default td {\n",
       "    color: black;\n",
       "    text-align: left;\n",
       "}\n",
       "\n",
       ".user-set td i,\n",
       ".default td i {\n",
       "    color: black;\n",
       "}\n",
       "\n",
       ".copy-paste-icon {\n",
       "    background-image: url(data:image/svg+xml;base64,PHN2ZyB4bWxucz0iaHR0cDovL3d3dy53My5vcmcvMjAwMC9zdmciIHZpZXdCb3g9IjAgMCA0NDggNTEyIj48IS0tIUZvbnQgQXdlc29tZSBGcmVlIDYuNy4yIGJ5IEBmb250YXdlc29tZSAtIGh0dHBzOi8vZm9udGF3ZXNvbWUuY29tIExpY2Vuc2UgLSBodHRwczovL2ZvbnRhd2Vzb21lLmNvbS9saWNlbnNlL2ZyZWUgQ29weXJpZ2h0IDIwMjUgRm9udGljb25zLCBJbmMuLS0+PHBhdGggZD0iTTIwOCAwTDMzMi4xIDBjMTIuNyAwIDI0LjkgNS4xIDMzLjkgMTQuMWw2Ny45IDY3LjljOSA5IDE0LjEgMjEuMiAxNC4xIDMzLjlMNDQ4IDMzNmMwIDI2LjUtMjEuNSA0OC00OCA0OGwtMTkyIDBjLTI2LjUgMC00OC0yMS41LTQ4LTQ4bDAtMjg4YzAtMjYuNSAyMS41LTQ4IDQ4LTQ4ek00OCAxMjhsODAgMCAwIDY0LTY0IDAgMCAyNTYgMTkyIDAgMC0zMiA2NCAwIDAgNDhjMCAyNi41LTIxLjUgNDgtNDggNDhMNDggNTEyYy0yNi41IDAtNDgtMjEuNS00OC00OEwwIDE3NmMwLTI2LjUgMjEuNS00OCA0OC00OHoiLz48L3N2Zz4=);\n",
       "    background-repeat: no-repeat;\n",
       "    background-size: 14px 14px;\n",
       "    background-position: 0;\n",
       "    display: inline-block;\n",
       "    width: 14px;\n",
       "    height: 14px;\n",
       "    cursor: pointer;\n",
       "}\n",
       "</style><body><div id=\"sk-container-id-1\" class=\"sk-top-container\"><div class=\"sk-text-repr-fallback\"><pre>LinearRegression()</pre><b>In a Jupyter environment, please rerun this cell to show the HTML representation or trust the notebook. <br />On GitHub, the HTML representation is unable to render, please try loading this page with nbviewer.org.</b></div><div class=\"sk-container\" hidden><div class=\"sk-item\"><div class=\"sk-estimator fitted sk-toggleable\"><input class=\"sk-toggleable__control sk-hidden--visually\" id=\"sk-estimator-id-1\" type=\"checkbox\" checked><label for=\"sk-estimator-id-1\" class=\"sk-toggleable__label fitted sk-toggleable__label-arrow\"><div><div>LinearRegression</div></div><div><a class=\"sk-estimator-doc-link fitted\" rel=\"noreferrer\" target=\"_blank\" href=\"https://scikit-learn.org/1.7/modules/generated/sklearn.linear_model.LinearRegression.html\">?<span>Documentation for LinearRegression</span></a><span class=\"sk-estimator-doc-link fitted\">i<span>Fitted</span></span></div></label><div class=\"sk-toggleable__content fitted\" data-param-prefix=\"\">\n",
       "        <div class=\"estimator-table\">\n",
       "            <details>\n",
       "                <summary>Parameters</summary>\n",
       "                <table class=\"parameters-table\">\n",
       "                  <tbody>\n",
       "                    \n",
       "        <tr class=\"default\">\n",
       "            <td><i class=\"copy-paste-icon\"\n",
       "                 onclick=\"copyToClipboard('fit_intercept',\n",
       "                          this.parentElement.nextElementSibling)\"\n",
       "            ></i></td>\n",
       "            <td class=\"param\">fit_intercept&nbsp;</td>\n",
       "            <td class=\"value\">True</td>\n",
       "        </tr>\n",
       "    \n",
       "\n",
       "        <tr class=\"default\">\n",
       "            <td><i class=\"copy-paste-icon\"\n",
       "                 onclick=\"copyToClipboard('copy_X',\n",
       "                          this.parentElement.nextElementSibling)\"\n",
       "            ></i></td>\n",
       "            <td class=\"param\">copy_X&nbsp;</td>\n",
       "            <td class=\"value\">True</td>\n",
       "        </tr>\n",
       "    \n",
       "\n",
       "        <tr class=\"default\">\n",
       "            <td><i class=\"copy-paste-icon\"\n",
       "                 onclick=\"copyToClipboard('tol',\n",
       "                          this.parentElement.nextElementSibling)\"\n",
       "            ></i></td>\n",
       "            <td class=\"param\">tol&nbsp;</td>\n",
       "            <td class=\"value\">1e-06</td>\n",
       "        </tr>\n",
       "    \n",
       "\n",
       "        <tr class=\"default\">\n",
       "            <td><i class=\"copy-paste-icon\"\n",
       "                 onclick=\"copyToClipboard('n_jobs',\n",
       "                          this.parentElement.nextElementSibling)\"\n",
       "            ></i></td>\n",
       "            <td class=\"param\">n_jobs&nbsp;</td>\n",
       "            <td class=\"value\">None</td>\n",
       "        </tr>\n",
       "    \n",
       "\n",
       "        <tr class=\"default\">\n",
       "            <td><i class=\"copy-paste-icon\"\n",
       "                 onclick=\"copyToClipboard('positive',\n",
       "                          this.parentElement.nextElementSibling)\"\n",
       "            ></i></td>\n",
       "            <td class=\"param\">positive&nbsp;</td>\n",
       "            <td class=\"value\">False</td>\n",
       "        </tr>\n",
       "    \n",
       "                  </tbody>\n",
       "                </table>\n",
       "            </details>\n",
       "        </div>\n",
       "    </div></div></div></div></div><script>function copyToClipboard(text, element) {\n",
       "    // Get the parameter prefix from the closest toggleable content\n",
       "    const toggleableContent = element.closest('.sk-toggleable__content');\n",
       "    const paramPrefix = toggleableContent ? toggleableContent.dataset.paramPrefix : '';\n",
       "    const fullParamName = paramPrefix ? `${paramPrefix}${text}` : text;\n",
       "\n",
       "    const originalStyle = element.style;\n",
       "    const computedStyle = window.getComputedStyle(element);\n",
       "    const originalWidth = computedStyle.width;\n",
       "    const originalHTML = element.innerHTML.replace('Copied!', '');\n",
       "\n",
       "    navigator.clipboard.writeText(fullParamName)\n",
       "        .then(() => {\n",
       "            element.style.width = originalWidth;\n",
       "            element.style.color = 'green';\n",
       "            element.innerHTML = \"Copied!\";\n",
       "\n",
       "            setTimeout(() => {\n",
       "                element.innerHTML = originalHTML;\n",
       "                element.style = originalStyle;\n",
       "            }, 2000);\n",
       "        })\n",
       "        .catch(err => {\n",
       "            console.error('Failed to copy:', err);\n",
       "            element.style.color = 'red';\n",
       "            element.innerHTML = \"Failed!\";\n",
       "            setTimeout(() => {\n",
       "                element.innerHTML = originalHTML;\n",
       "                element.style = originalStyle;\n",
       "            }, 2000);\n",
       "        });\n",
       "    return false;\n",
       "}\n",
       "\n",
       "document.querySelectorAll('.fa-regular.fa-copy').forEach(function(element) {\n",
       "    const toggleableContent = element.closest('.sk-toggleable__content');\n",
       "    const paramPrefix = toggleableContent ? toggleableContent.dataset.paramPrefix : '';\n",
       "    const paramName = element.parentElement.nextElementSibling.textContent.trim();\n",
       "    const fullParamName = paramPrefix ? `${paramPrefix}${paramName}` : paramName;\n",
       "\n",
       "    element.setAttribute('title', fullParamName);\n",
       "});\n",
       "</script></body>"
      ],
      "text/plain": [
       "LinearRegression()"
      ]
     },
     "execution_count": 77,
     "metadata": {},
     "output_type": "execute_result"
    }
   ],
   "source": [
    "#create and train the model\n",
    "model=LinearRegression()\n",
    "model.fit(x_train,y_train)"
   ]
  },
  {
   "cell_type": "code",
   "execution_count": 78,
   "id": "825df547-c694-45a1-ab05-9fc9305f8976",
   "metadata": {},
   "outputs": [
    {
     "name": "stdout",
     "output_type": "stream",
     "text": [
      "R2 score 0.2867082371600853\n"
     ]
    }
   ],
   "source": [
    "#predict and evaluate\n",
    "y_pred=model.predict(x_test)\n",
    "r2=r2_score(y_test,y_pred)\n",
    "print(\"R2 score\",r2)"
   ]
  },
  {
   "cell_type": "markdown",
   "id": "8f35b0be-b9f9-43bc-b638-98198e493459",
   "metadata": {},
   "source": [
    "### 🔹 Linear Regression to Predict Electric Range\n",
    "\n",
    "We used a linear regression model to predict the Electric Range of a vehicle based on:\n",
    "\n",
    "- Model Year\n",
    "- Base MSRP\n",
    "\n",
    "The dataset was split into training and testing sets.  \n",
    "The model was trained on 80% of the data, and evaluated on 20%.  \n",
    "We used R² Score to check model performance.\n",
    "\n",
    "A higher R² indicates better prediction accuracy."
   ]
  },
  {
   "cell_type": "markdown",
   "id": "be5f6f69-3f2d-42ae-8f1a-56dcb64b5ebe",
   "metadata": {},
   "source": [
    "### 🔹 How can independent variables (features) be used to predict Electric Range?\n",
    "\n",
    "Independent variables (also called features) are used as input to predict the target variable — in this case, the Electric Range of a vehicle.\n",
    "\n",
    "We used the following features:\n",
    "\n",
    "- *Model Year*: Newer models often have better battery technology, so range tends to increase over time.\n",
    "- *Base MSRP*: Higher-priced vehicles may include larger or more advanced batteries, increasing the electric range.\n",
    "- *Make*: Different manufacturers use different designs and battery systems. For example, Tesla models usually offer longer range than many others.\n",
    "\n",
    "Since Make is a *categorical variable* (text), we used *encoding techniques* like get_dummies() to convert it into numerical format before using it in the model.\n",
    "\n",
    "By combining these features in a machine learning model (such as Linear Regression), we trained the model to learn patterns in the data. The model can then predict how far a vehicle can travel based on its price, year, and manufacturer."
   ]
  },
  {
   "cell_type": "markdown",
   "id": "b842baad-b521-4347-a5d7-faf643b6dc01",
   "metadata": {},
   "source": [
    "### 🔹 How do we handle categorical variables like Make and Model in regression analysis?\n",
    "\n",
    "Categorical variables like Make and Model are text-based and cannot be directly used in regression models, which require numerical input.\n",
    "\n",
    "To use them in regression analysis, we *convert categorical variables into numerical format* using a method called *One-Hot Encoding*.\n",
    "\n",
    "In Python, we typically use the pd.get_dummies() function to perform this encoding. It creates a new column for each unique category and assigns 0 or 1 based on whether the record belongs to that category.\n",
    "\n",
    "For example, if the Make column contains values like Tesla, Nissan, and Ford, One-Hot Encoding will create three new columns:\n",
    "\n",
    "- Make_Tesla\n",
    "- Make_Nissan\n",
    "- Make_Ford\n",
    "\n",
    "Each row will have 1 in the column that matches its make, and 0 in the others.\n",
    "\n",
    "This allows the regression model to use categorical features by treating them as binary (on/off) indicators, enabling the model to learn their individual effects on the target variable (e.g., Electric Range)."
   ]
  },
  {
   "cell_type": "markdown",
   "id": "920a44bf-0b19-4ad0-94cd-f63f0690395c",
   "metadata": {},
   "source": [
    "### 🔹 How do we handle categorical variables like Make and Model in regression analysis?\n",
    "\n",
    "Categorical variables such as Make and Model contain text values (like \"Tesla\", \"Nissan\", \"Model 3\") which cannot be directly used in regression analysis because regression models require numerical input.\n",
    "\n",
    "To handle this, we use a technique called *One-Hot Encoding*.\n",
    "\n",
    "This method converts each unique category into a new binary (0 or 1) column. For example:\n",
    "\n",
    "If the Make column has values like:\n",
    "- Tesla\n",
    "- Nissan\n",
    "- Ford\n",
    "\n",
    "One-Hot Encoding will create:\n",
    "- Make_Tesla\n",
    "- Make_Nissan\n",
    "- Make_Ford\n",
    "\n",
    "Each row will get a 1 in the column that matches its make, and 0 in others.\n",
    "\n",
    "This way, the regression model can understand the category as a separate feature without assigning any numeric order or importance.\n",
    "\n",
    "In Python, we use:\n",
    "```python\n",
    "pd.get_dummies(df[['Make', 'Model']])"
   ]
  },
  {
   "cell_type": "markdown",
   "id": "5a3d89a3-df2d-4dfa-b1bb-c6ed70a8b18c",
   "metadata": {},
   "source": [
    "### 🔹 What is the R² Score of the Model and What Does It Indicate?\n",
    "\n",
    "The *R² score* (also called the *coefficient of determination*) is a metric that tells us how well our regression model fits the data.\n",
    "\n",
    "It ranges from *0 to 1*:\n",
    "- *R² = 1* → Perfect prediction\n",
    "- *R² = 0* → Model predicts no better than the average\n",
    "- *R² < 0* → Model performs worse than a horizontal line\n",
    "\n",
    "In our model to predict Electric Range using features like Model Year and Base MSRP, we calculated the R² score using the r2_score() function.\n",
    "\n",
    "### 📊 Example Output:\n",
    "```python\n",
    "from sklearn.metrics import r2_score\n",
    "r2 = r2_score(y_test, y_pred)\n",
    "print(\"R² Score:\", r2)"
   ]
  },
  {
   "cell_type": "markdown",
   "id": "7ec63ab9-a696-42b9-9dbe-7e9c7a54ac08",
   "metadata": {},
   "source": [
    "### 🔹 How does the Base MSRP influence the Electric Range?\n",
    "\n",
    "In our regression model, Base MSRP was used as one of the independent variables to predict Electric Range.\n",
    "\n",
    "The model learned that as the *Base MSRP increases, the **Electric Range tends to increase* as well.\n",
    "\n",
    "This makes sense because higher-priced electric vehicles often include:\n",
    "- Bigger or more advanced batteries\n",
    "- Better aerodynamics\n",
    "- Efficiency improvements\n",
    "\n",
    "These factors contribute to a longer electric range.\n",
    "\n",
    "So, the model shows a *positive relationship* between price and range — though it may not be perfectly linear. Luxury or premium EVs (like Tesla or Lucid) often have much higher ranges compared to lower-cost EVs (like the Nissan Leaf or Chevy Spark)."
   ]
  },
  {
   "cell_type": "code",
   "execution_count": 79,
   "id": "8d7a2842-4bec-49bf-b298-0f9c3120a33a",
   "metadata": {},
   "outputs": [
    {
     "name": "stdout",
     "output_type": "stream",
     "text": [
      "Base MSRP Coefficient: -8.084004666273744e-05\n"
     ]
    }
   ],
   "source": [
    "print(\"Base MSRP Coefficient:\", model.coef_[1])"
   ]
  },
  {
   "cell_type": "markdown",
   "id": "b1739987-6de4-411d-8eba-200d77a47cff",
   "metadata": {},
   "source": [
    "## 🔹 How to Improve the Accuracy of the Linear Regression Model\n",
    "\n",
    "To improve the accuracy of the model that predicts Electric Range:\n",
    "\n",
    "1. *Add more features* – like battery size, fuel type, or drive type.\n",
    "2. *Convert text columns* (like Make and Model) into numbers using one-hot encoding.\n",
    "3. *Scale the data* – so that large numbers (like Base MSRP) don’t dominate.\n",
    "4. *Remove outliers* – clean wrong or extreme values that confuse the model.\n",
    "5. *Use better models* – try decision trees or random forest if linear regression is too basic.\n",
    "6. *Use cross-validation* – to test the model more reliably.\n",
    "\n",
    "These steps help the model learn better and give more accurate predictions."
   ]
  },
  {
   "cell_type": "markdown",
   "id": "daa35a75-a411-4cfe-90e5-005ee2403b82",
   "metadata": {},
   "source": [
    "### 🔹 Can we use this model to predict the range of new EV models?\n",
    "\n",
    "Yes, we can use this regression model to estimate the electric range of new EV models based on their specifications like Model Year, Base MSRP, and Make.\n",
    "\n",
    "However, the prediction will only be accurate *if the new vehicle’s specifications are similar* to the data the model was trained on.\n",
    "\n",
    "If the new EV has very different features (like a new battery technology or an unknown make), the prediction may not be reliable.\n",
    "\n",
    "To improve accuracy for future EVs, the model should be regularly updated with new data and more detailed features such as:\n",
    "- Battery capacity\n",
    "- Motor type\n",
    "- Weight\n",
    "- Drive type\n",
    "\n",
    "In summary: ✅ Yes, but predictions are more reliable when the input data is similar to the training data."
   ]
  },
  {
   "cell_type": "markdown",
   "id": "67b08dad-3704-4411-8b91-7268545fd9fc",
   "metadata": {},
   "source": [
    "### 🔹 Conclusion\n",
    "\n",
    "The analysis provided the following key insights:\n",
    "\n",
    "- *King County* leads EV adoption in Washington state.\n",
    "- *Tesla* is the most common EV make, with Model 3 and Model Y dominating.\n",
    "- Newer EV models tend to have better electric range, showing a positive trend over time.\n",
    "- Vehicles eligible for *CAFV incentives* make up the majority of the dataset.\n",
    "- There is a visible urban-rural gap in EV adoption, with urban counties showing much higher concentrations.\n",
    "\n",
    "Using a *Linear Regression Model*, we were able to:\n",
    "- Predict electric range based on Model Year, Base MSRP, and encoded categorical features.\n",
    "- Achieve a reasonable *R² score*, indicating a moderately accurate model.\n",
    "- Show that higher MSRP and newer model years are positively associated with longer electric range.\n",
    "\n",
    "This notebook fulfills the assignment objectives and is ready for submission."
   ]
  },
  {
   "cell_type": "code",
   "execution_count": null,
   "id": "d85cc9b1-50b0-4714-8f2d-3880e03e6488",
   "metadata": {},
   "outputs": [],
   "source": []
  }
 ],
 "metadata": {
  "kernelspec": {
   "display_name": "Python 3 (ipykernel)",
   "language": "python",
   "name": "python3"
  },
  "language_info": {
   "codemirror_mode": {
    "name": "ipython",
    "version": 3
   },
   "file_extension": ".py",
   "mimetype": "text/x-python",
   "name": "python",
   "nbconvert_exporter": "python",
   "pygments_lexer": "ipython3",
   "version": "3.13.2"
  }
 },
 "nbformat": 4,
 "nbformat_minor": 5
}
